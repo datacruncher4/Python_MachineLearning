{
 "cells": [
  {
   "cell_type": "code",
   "execution_count": 12,
   "metadata": {},
   "outputs": [],
   "source": [
    "from __future__ import print_function\n",
    "import urllib3 \n",
    "#  pip install -i https://pypi.anaconda.org/pypi/simple urllib3\n",
    "import unicodedata\n",
    "import csv\n",
    "from datetime import datetime\n",
    "from bs4 import BeautifulSoup, SoupStrainer, Comment\n",
    "import warnings\n",
    "warnings.filterwarnings('ignore')"
   ]
  },
  {
   "cell_type": "code",
   "execution_count": 15,
   "metadata": {},
   "outputs": [
    {
     "data": {
      "text/plain": [
       "200"
      ]
     },
     "execution_count": 15,
     "metadata": {},
     "output_type": "execute_result"
    }
   ],
   "source": [
    "#inserting the domain into the url\n",
    "url='http://comicbook.com/dc/2018/01/16/justice-league-zack-snyder-cut-official-website/'\n",
    "\n",
    "\n",
    "http = urllib3.PoolManager()\n",
    "response = http.request('GET',url)\n",
    "response.status"
   ]
  },
  {
   "cell_type": "markdown",
   "metadata": {},
   "source": [
    "'200' status means 'OK', 'Request fulfilled, document follows'"
   ]
  },
  {
   "cell_type": "code",
   "execution_count": 17,
   "metadata": {},
   "outputs": [
    {
     "data": {
      "text/plain": [
       "\"Zack Snyder Fans Launch New Website To Support Release Of 'Justice League' Director's Cut\""
      ]
     },
     "execution_count": 17,
     "metadata": {},
     "output_type": "execute_result"
    }
   ],
   "source": [
    "#checking the title description from the website\n",
    "soup=BeautifulSoup(response.data, \"lxml\")\n",
    "soup.title.string"
   ]
  },
  {
   "cell_type": "code",
   "execution_count": 18,
   "metadata": {
    "scrolled": false
   },
   "outputs": [
    {
     "data": {
      "text/plain": [
       "[<a href=\"http://popculture.com/page/about\">\n",
       "                     PopCulture Media\n",
       "                 </a>, <a href=\"http://comicbook.com\">\n",
       "                     ComicBook.com\n",
       "                 </a>, <a href=\"http://popculture.com\">\n",
       "                     PopCulture.com\n",
       "                 </a>, <a href=\"https://facebook.com/comicbookdc\" rel=\"noopener\" target=\"_blank\" title=\"Join Us on Facebook\"><svg aria-hidden=\"true\" role=\"presentation\" title=\"facebook\"><use xlink:href=\"/img/svg-defs.svg?v=244#facebook\"></use></svg></a>, <a href=\"https://twitter.com/ComicBook\" target=\"_blank\" title=\"Follow Us on Twitter\"><svg rel=\"noopener\" role=\"presentation\" title=\"twitter\"><use xlink:href=\"/img/svg-defs.svg?v=244#twitter\"></use></svg></a>, <a href=\"https://plus.google.com/+Comicbook/\" rel=\"noopener\" target=\"_blank\" title=\"Follow Us on Google+\"><svg aria-hidden=\"true\" role=\"presentation\" title=\"googleplus\"><use xlink:href=\"/img/svg-defs.svg?v=244#googleplus\"></use></svg></a>, <a href=\"https://www.youtube.com/user/ComicBookCom/playlists\" rel=\"noopener\" target=\"_blank\" title=\"Follow Us on Youtube\"><svg aria-hidden=\"true\" role=\"presentation\" title=\"YouTube\"><use xlink:href=\"/img/svg-defs.svg?v=244#youtube\"></use></svg></a>, <a href=\"https://www.instagram.com/comicbook/\" rel=\"noopener\" target=\"_blank\" title=\"Follow Us on Instagram\"><svg aria-hidden=\"true\" role=\"presentation\" title=\"Instagram\"><use xlink:href=\"/img/svg-defs.svg?v=244#instagram\"></use></svg></a>, <a class=\"short\" href=\"/\"><svg role=\"presentation\" title=\"Comicbook.com logo\"><use xlink:href=\"/img/svg-defs.svg?v=244#comicbook-logo-1\"></use></svg></a>, <a class=\"channel-link short\" href=\"http://comicbook.com/dc\">\n",
       "             /DC        </a>, <a href=\"http://www.popculture.com\">Pop Culture Media <svg class=\"mobile\" role=\"presentation\" title=\"Arrow Down\"><use xlink:href=\"/img/svg-defs.svg?v=244#arrow-right\"></use></svg><svg class=\"desktop\" role=\"presentation\" title=\"Down Arrow Solid\"><use xlink:href=\"/img/svg-defs.svg?v=244#arrow-down-solid\"></use></svg></a>, <a href=\"http://comicbook.com\">ComicBook.com</a>, <a href=\"http://popculture.com\">PopCulture.com</a>, <a href=\"http://popculture.com/page/about\">About</a>, <a href=\"http://popculture.com/page/advertising\">Advertise</a>, <a href=\"http://popculture.com/page/contact\">Contact</a>, <a>Franchises <svg class=\"mobile\" role=\"presentation\" title=\"Arrow Down\"><use xlink:href=\"/img/svg-defs.svg?v=244#arrow-right\"></use></svg><svg class=\"desktop\" role=\"presentation\" title=\"Down Arrow Solid\"><use xlink:href=\"/img/svg-defs.svg?v=244#arrow-down-solid\"></use></svg></a>, <a href=\"/news\">News</a>, <a href=\"/dc/\">DC</a>, <a href=\"/marvel/\">Marvel</a>, <a href=\"/thewalkingdead/\">The Walking Dead</a>, <a href=\"/starwars/\">Star Wars</a>, <a href=\"/startrek/\">Star Trek</a>, <a href=\"/anime/\">Anime</a>, <a href=\"/horror/\">Horror</a>, <a href=\"/powerrangers/\">Power Rangers</a>, <a href=\"http://popculture.com/wwe\">WWE</a>, <a href=\"http://popculture.com/streaming\">Streaming</a>, <a href=\"/movies\">Movies <svg class=\"mobile\" role=\"presentation\" title=\"Arrow Down\"><use xlink:href=\"/img/svg-defs.svg?v=244#arrow-right\"></use></svg><svg class=\"desktop\" role=\"presentation\" title=\"Down Arrow Solid\"><use xlink:href=\"/img/svg-defs.svg?v=244#arrow-down-solid\"></use></svg></a>, <a href=\"/movies/news\">Movie News</a>, <a href=\"/movie/database\">Database</a>, <a href=\"/list/comicbook-com-composite-rankings-comic-book-movies-\">Composite Rankings</a>, <a href=\"/list/franchise-movies-release-schedule\">Release Schedule</a>, <a href=\"/list/comicbook-com-anticipated-rankings-comic-book-movies\">Anticipation Rankings</a>, <a href=\"/list/top-grossing-comic-book-movies-worldwide-\">Top Grossing Comic Movies</a>, <a href=\"/category/justice-league-part-one\">Justice League</a>, <a href=\"/category/aquaman\">Aquaman</a>, <a href=\"/category/the-flash\">The Flash</a>, <a href=\"/category/wonder-woman-comicmovie\">Wonder Woman</a>, <a href=\"/tv-shows\">TV <svg class=\"mobile\" role=\"presentation\" title=\"Arrow Down\"><use xlink:href=\"/img/svg-defs.svg?v=244#arrow-right\"></use></svg><svg class=\"desktop\" role=\"presentation\" title=\"Down Arrow Solid\"><use xlink:href=\"/img/svg-defs.svg?v=244#arrow-down-solid\"></use></svg></a>, <a href=\"/tv-shows/news\">TV News</a>, <a href=\"/tv/database\">Database</a>, <a href=\"/list/comicbook-tvshow-composite\">Composite Rankings</a>, <a href=\"/list/upcoming-tv-episodes\">Upcoming Episodes</a>, <a href=\"/category/black-lightning\">Black Lightning</a>, <a href=\"/category/arrow\">Arrow</a>, <a href=\"/category/cws-the-flash\">The Flash</a>, <a href=\"/category/supergirl\">Supergirl </a>, <a href=\"/category/gotham\">Gotham</a>, <a href=\"/category/legends-of-tomorrow\">Legends of Tomorrow </a>, <a href=\"/comics\">Comics <svg class=\"mobile\" role=\"presentation\" title=\"Arrow Down\"><use xlink:href=\"/img/svg-defs.svg?v=244#arrow-right\"></use></svg><svg class=\"desktop\" role=\"presentation\" title=\"Down Arrow Solid\"><use xlink:href=\"/img/svg-defs.svg?v=244#arrow-down-solid\"></use></svg></a>, <a href=\"/comics/news\">Comic News</a>, <a href=\"/comic/database\">Database</a>, <a href=\"/\">DC Comics</a>, <a href=\"/category/vertigo\">Vertigo</a>, <a href=\"/gaming\">Gaming <svg class=\"mobile\" role=\"presentation\" title=\"Arrow Down\"><use xlink:href=\"/img/svg-defs.svg?v=244#arrow-right\"></use></svg><svg class=\"desktop\" role=\"presentation\" title=\"Down Arrow Solid\"><use xlink:href=\"/img/svg-defs.svg?v=244#arrow-down-solid\"></use></svg></a>, <a href=\"http://comicbook.com/gaming\">Gaming News</a>, <a href=\"/category/injustice-2\">Injustice 2</a>, <a href=\"/category/batman-arkham\">Batman Arkham</a>, <a href=\"/category/dc-universe-online\">DC Universe Online</a>, <a href=\"https://www.youtube.com/user/ComicBookCom/playlists?sort=lad&amp;view=1&amp;flow=grid\">Video</a>, <a class=\"twitter-follow-button\" data-size=\"medium\" href=\"https://twitter.com/ComicBook\">\n",
       "                                 Follow @ComicBook                            </a>, <a class=\"user_nav\">\n",
       " <svg role=\"presentation\" title=\"User Icon\"><use xlink:href=\"/img/svg-defs.svg?v=244#user3\"></use></svg><svg role=\"presentation\" title=\"Arrow Down\"><use xlink:href=\"/img/svg-defs.svg?v=244#arrow-down\"></use></svg>\n",
       " </a>, <a href=\"https://www.facebook.com/v2.0/dialog/oauth?client_id=231517050198188&amp;redirect_uri=http%3A%2F%2Fcomicbook.com%2Fdc%2Fsinglesignon%3Ftype%3DFB&amp;state=261a79a0f1892575527a253956437f2b&amp;sdk=php-sdk-4.0.8&amp;scope=email%2C+user_friends\"><svg role=\"presentation\" title=\"Facebook Icon\"><use xlink:href=\"/img/svg-defs.svg?v=244#facebook\"></use></svg></a>, <a href=\"/twitterconnect\"><svg role=\"presentation\" title=\"Twitter Icon\"><use xlink:href=\"/img/svg-defs.svg?v=244#twitter\"></use></svg></a>, <a href=\"https://accounts.google.com/o/oauth2/auth?client_id=299744271806-i8rbmg53568vvh8eetqov42541r7au5j.apps.googleusercontent.com&amp;redirect_uri=http%3A%2F%2Fcomicbook.com%2Fdc%2Fsinglesignon%3Ftype%3DGO&amp;state=261a79a0f1892575527a253956437f2b&amp;scope=https%3A%2F%2Fwww.googleapis.com%2Fauth%2Fplus.login+profile+email&amp;response_type=code&amp;access_type=offline\"><svg role=\"presentation\" title=\"Google+ Icon\"><use xlink:href=\"/img/svg-defs.svg?v=244#googleplus\"></use></svg></a>, <a href=\"/user/new\">Register</a>, <a href=\"/forgot-password\">Forgot Password</a>, <a href=\"/page/termsofservice\">Terms of Service</a>, <a href=\"/page/privacy\">Privacy Policy</a>, <a class=\"menu-icon\"><span></span></a>, <a><svg role=\"presentation\" title=\"Search Icon\"><use xlink:href=\"/img/svg-defs.svg?v=244#search\"></use></svg></a>, <a class=\"close\">\n",
       " <svg role=\"presentation\" title=\"Close\"><use xlink:href=\"/img/svg-defs.svg?v=244#close\"></use></svg>\n",
       " </a>, <a href=\"https://www.facebook.com/sharer/sharer.php?u=http://comicbook.com/dc/2018/01/16/justice-league-zack-snyder-cut-official-website/\" target=\"_blank\">\n",
       " <svg role=\"presentation\" title=\"facebook\"><use xlink:href=\"/img/svg-defs.svg?v=244#facebook\"></use></svg>\n",
       " </a>, <a href=\"https://twitter.com/share?via=ComicBook&amp;text=Zack Snyder Fans Launch New Website To Support Release Of 'Justice League' Director's Cut&amp;url=http://comicbook.com/dc/2018/01/16/justice-league-zack-snyder-cut-official-website/\" target=\"_blank\">\n",
       " <svg role=\"presentation\" title=\"twitter\"><use xlink:href=\"/img/svg-defs.svg?v=244#twitter\"></use></svg>\n",
       " </a>, <a href=\"//www.reddit.com/submit?url=http://comicbook.com/dc/2018/01/16/justice-league-zack-snyder-cut-official-website/\" target=\"_blank\">\n",
       " <svg role=\"presentation\" title=\"reddit\"><use xlink:href=\"/img/svg-defs.svg?v=244#reddit\"></use></svg>\n",
       " </a>, <a href=\"https://plus.google.com/share?url=http://comicbook.com/dc/2018/01/16/justice-league-zack-snyder-cut-official-website/\" target=\"_blank\">\n",
       " <svg role=\"presentation\" title=\"google+\"><use xlink:href=\"/img/svg-defs.svg?v=244#googleplus\"></use></svg>\n",
       " </a>, <a class=\"sms\" data-google-event=\"sms\" href=\"sms:&amp;body=Zack Snyder Fans Launch New Website To Support Release Of 'Justice League' Director's Cut - http://comicbook.com/dc/2018/01/16/justice-league-zack-snyder-cut-official-website/\">\n",
       " <svg role=\"presentation\" title=\"sms\"><use xlink:href=\"/img/svg-defs.svg?v=244#sms\"></use></svg>\n",
       " </a>, <a class=\"sms\" data-google-event=\"sms\" href=\"sms:&amp;body=Zack Snyder Fans Launch New Website To Support Release Of 'Justice League' Director's Cut - http://comicbook.com/dc/2018/01/16/justice-league-zack-snyder-cut-official-website/\">\n",
       " <svg role=\"presentation\" title=\"sms\"><use xlink:href=\"/img/svg-defs.svg?v=244#sms\"></use></svg>\n",
       " </a>, <a href=\"mailto:?&amp;subject=Zack Snyder Fans Launch New Website To Support Release Of 'Justice League' Director's Cut on Comicbook.com&amp;body=Hi! Check out this article from DC about Zack Snyder Fans Launch New Website To Support Release Of 'Justice League' Director's Cut: http://comicbook.com/dc/2018/01/16/justice-league-zack-snyder-cut-official-website/\" rel=\"noopener\" target=\"_blank\">\n",
       " <svg role=\"presentation\" title=\"email\"><use xlink:href=\"/img/svg-defs.svg?v=244#mail\"></use></svg>\n",
       " </a>, <a href=\"/category/zack-snyder\">Zack Snyder</a>, <a href=\"http://comicbook.com/category/justice-league-part-one\">Justice League</a>, <a href=\"http://comicbook.com/dc/2017/12/26/justice-league-zack-snyder-cut/\">DC fanbase has launched a website for the </a>, <a href=\"http://comicbook.com/dc/2017/12/26/justice-league-zack-snyder-cut/\"><em>Justice League </em></a>, <a href=\"http://comicbook.com/dc/2017/12/26/justice-league-zack-snyder-cut/\">Snyder Cut</a>, <a href=\"http://www.forsnydercut.com/\" target=\"_blank\">For Snyder Cut</a>, <a href=\"http://comicbook.com/list/comicbook-com-composite-rankings-comic-book-movies-\" rel=\"noopener\" target=\"_blank\">All-Time Comic Movies</a>, <a href=\"http://comicbook.com/list/comicbook-com-user-rankings-comic-book-movies-\" rel=\"noopener\" target=\"_blank\">All-Time Rated</a>, <a class=\"movietickets\" href=\"http://www.tkqlhce.com/click-7966799-10369448-1440690209000\" rel=\"noopener\" target=\"_blank\">\n",
       "             Buy Tickets powered by Fandango\n",
       "         </a>, <a href=\"http://comicbook.com/category/justice-league-part-one\" rel=\"noopener\" target=\"_blank\"> View full profile</a>, <a href=\"http://comicbook.com\" rel=\"noopener\" target=\"_blank\"><svg role=\"presentation\" title=\"Comicbook.com logo\"><use xlink:href=\"http://asset.comicbook.com/img/svg-defs.svg#comicbook-logo-1\"></use></svg></a>, <a href=\"http://comicbook.com/dc\"><svg role=\"presentation\" title=\"Comicbook.com logo\"><use xlink:href=\"/img/svg-defs.svg?v=244#comicbook-logo-grey\"></use></svg></a>, <a class=\"slides-nav next-slide-button\" data-js=\"next-slide-button\"><svg aria-hidden=\"true\" role=\"presentation\" title=\"Arrow Right\"><use xlink:href=\"/img/svg-defs.svg?v=244#arrow-right2\"></use></svg></a>, <a class=\"slides-nav previous-slide-button\" data-js=\"previous-slide-button\"><svg aria-hidden=\"true\" role=\"presentation\" title=\"Arrow Left\"><use xlink:href=\"/img/svg-defs.svg?v=244#arrow-left2\"></use></svg></a>, <a class=\"slides-nav backtoarticle-button\" data-js=\"backtoarticle-button\" style=\"display: none;\"><svg aria-hidden=\"true\" role=\"presentation\" title=\"Close\"><use xlink:href=\"/img/svg-defs.svg?v=244#close\"></use></svg></a>, <a href=\"http://comicbook.com/dc/2018/01/16/justice-league-zack-snyder-cut-official-website/\">\n",
       " <img height=\"72\" src=\"http://media.comicbook.com/2018/01/justice-league-zack-snyder-version-concept-art-1071177-160x90.jpeg\" width=\"120\"/>\n",
       " </a>, <a href=\"http://comicbook.com/dc/2018/01/16/justice-league-zack-snyder-cut-official-website/\">\n",
       "                     Zack Snyder Fans Launch New Website To Support Release Of 'Justice League' Director's Cut                </a>, <a href=\"http://comicbook.com/marvel/2018/01/26/thor-ragnarok-featured-a-hulk-easter-egg-from-avengers-that-nobo/\">\n",
       " <img height=\"72\" src=\"http://media.comicbook.com/2018/01/screen-shot-2018-01-26-at-112551-am-1078589-160x90.jpeg\" width=\"120\"/>\n",
       " </a>, <a href=\"http://comicbook.com/marvel/2018/01/26/thor-ragnarok-featured-a-hulk-easter-egg-from-avengers-that-nobo/\">\n",
       "                                 'Thor: Ragnarok' Featured a Hulk Easter Egg From Avengers That Nobody Noticed                            </a>, <a href=\"http://comicbook.com/starwars/2018/01/26/mark-hamill-responds-to-stormy-daniels-calling-star-wars-the-las/\">\n",
       " <img height=\"72\" src=\"http://media.comicbook.com/2018/01/hamillbrush-1078669-160x90.jpeg\" width=\"120\"/>\n",
       " </a>, <a href=\"http://comicbook.com/starwars/2018/01/26/mark-hamill-responds-to-stormy-daniels-calling-star-wars-the-las/\">\n",
       "                                 Mark Hamill Responds To Stormy Daniels Calling 'Star Wars: The Last Jedi' The Worst Movie Ever                            </a>, <a href=\"http://comicbook.com/marvel/2018/01/26/avengers-infinity-war-funko-pop-leak-confirms-iron-spider/\">\n",
       " <img height=\"72\" src=\"http://media.comicbook.com/2018/01/avengers-infinity-war-funko-pop-iron-spider-1078636-160x90.jpeg\" width=\"120\"/>\n",
       " </a>, <a href=\"http://comicbook.com/marvel/2018/01/26/avengers-infinity-war-funko-pop-leak-confirms-iron-spider/\">\n",
       "                                 'Avengers: Infinity War' Funko POP Leak Confirms SPOILER                            </a>, <a href=\"http://comicbook.com/dc/2018/01/26/tv-ratings-arrow-supernatural-thursday-night/\">\n",
       " <img height=\"72\" src=\"http://media.comicbook.com/2018/01/arrow-we-fall-header-1075439-160x90.jpeg\" width=\"120\"/>\n",
       " </a>, <a href=\"http://comicbook.com/dc/2018/01/26/tv-ratings-arrow-supernatural-thursday-night/\">\n",
       "                                 TV Ratings: 'Supernatural' Delivers on Thursday Night, 'Arrow' Falls                            </a>, <a href=\"http://comicbook.com/marvel/2018/01/26/avengers-infinity-war-gwyneth-paltrow-pepper-potts-powers/\">\n",
       " <img height=\"72\" src=\"http://media.comicbook.com/2018/01/iron-man-3-1-1-1078574-160x90.jpeg\" width=\"120\"/>\n",
       " </a>, <a href=\"http://comicbook.com/marvel/2018/01/26/avengers-infinity-war-gwyneth-paltrow-pepper-potts-powers/\">\n",
       "                                 'Avengers: Infinity War': Gwyneth Paltrow Lets Some Pepper Potts Spoilers Slip                            </a>, <a href=\"http://comicbook.com/marvel/2018/01/26/avengers-infinity-war-funko-pop-thor-new-weapon/\">\n",
       " <img height=\"72\" src=\"http://media.comicbook.com/2018/01/avengers-infinity-war-thor-eyepatch-1073085-160x90.jpeg\" width=\"120\"/>\n",
       " </a>, <a href=\"http://comicbook.com/marvel/2018/01/26/avengers-infinity-war-funko-pop-thor-new-weapon/\">\n",
       "                                 'Avengers: Infinity War' Funko Pop Leak Reveals Thor's New Weapon                            </a>, <a href=\"http://comicbook.com/dc/2018/01/26/gotham-ben-mckenzie-commissioner-gordon-first-batman/\">\n",
       " <img height=\"72\" src=\"http://media.comicbook.com/2018/01/gotham-batman-gordon-1078581-160x90.jpeg\" width=\"120\"/>\n",
       " </a>, <a href=\"http://comicbook.com/dc/2018/01/26/gotham-ben-mckenzie-commissioner-gordon-first-batman/\">\n",
       "                                 'Gotham's Ben McKenzie Argues That Batman Wasn't the First Batman                            </a>, <a href=\"http://comicbook.com/starwars/2018/01/26/star-wars-snoke-alive-luke-astral-projection-theory/\">\n",
       " <img height=\"72\" src=\"http://media.comicbook.com/2018/01/star-wars-snoke-alive-luke-astral-projection-connection-1078624-160x90.jpeg\" width=\"120\"/>\n",
       " </a>, <a href=\"http://comicbook.com/starwars/2018/01/26/star-wars-snoke-alive-luke-astral-projection-theory/\">\n",
       "                                 New Star Wars Fan Theory Says Snoke's Survival Connected to Luke's New Force Powers                            </a>, <a href=\"http://comicbook.com/gaming/2018/01/26/dragon-ball-fighterz-vegeta-beats-goku/\">\n",
       " <img height=\"72\" src=\"http://media.comicbook.com/2018/01/db-fighterz-showdown-1078586-160x90.jpeg\" width=\"120\"/>\n",
       " </a>, <a href=\"http://comicbook.com/gaming/2018/01/26/dragon-ball-fighterz-vegeta-beats-goku/\">\n",
       "                                 Dragon Ball FighterZ: Vegeta Beats Goku in Voice Actor Showdown, Fans React                            </a>, <a href=\"http://comicbook.com/tv-shows/2018/01/26/charmed-reboot-the-cw-remake-developed/\">\n",
       " <img height=\"72\" src=\"http://media.comicbook.com/2017/01/charmed-default-nologo-800x450-223160-160x90.jpg\" width=\"120\"/>\n",
       " </a>, <a href=\"http://comicbook.com/tv-shows/2018/01/26/charmed-reboot-the-cw-remake-developed/\">\n",
       "                                 The CW Moving Forward With 'Charmed' Reboot                            </a>, <a href=\"\" id=\"teaser-container-a\">\n",
       " <img id=\"teaser-container-img\" src=\"\"/>\n",
       " <h3 id=\"teaser-container-title\"></h3>\n",
       " </a>, <a href=\"//popculture.com/entertainment\">Entertainment</a>, <a href=\"//popculture.com/celebrity\">Celebrity</a>, <a href=\"http://comicbook.com\">Comicbook</a>, <a href=\"http://comicbook.com/gaming\">Gaming</a>, <a href=\"//popculture.com/lifestyle\">Lifestyle</a>, <a href=\"//popculture.com/page/about\">About</a>, <a href=\"//popculture.com/page/contact\">Contact</a>, <a href=\"//popculture.com/page/advertising\">Advertising</a>, <a href=\"//popculture.com/page/staff\">Staff</a>, <a href=\"//popculture.com/page/jobs\">Careers</a>, <a href=\"//popculture.com/page/privacy\">Privacy</a>, <a href=\"//popculture.com/page/dmca\">DMCA</a>, <a href=\"//popculture.com/page/termsofservice\">Terms of Service</a>, <a href=\"//popculture.com/user/new\">Register</a>, <a href=\"//popculture.com/login\">Login</a>, <a href=\"/\">\n",
       " <svg role=\"presentation\" title=\"Comicbook.com logo\"><use xlink:href=\"/img/svg-defs.svg?v=244#comicbook-logo-1\"></use></svg> </a>, <a href=\"http://popculture.com/\">\n",
       " <svg role=\"presentation\" title=\"PopCulture.com logo\"><use xlink:href=\"/img/svg-defs.svg?v=244#popculture-logo-1\"></use></svg> </a>]"
      ]
     },
     "execution_count": 18,
     "metadata": {},
     "output_type": "execute_result"
    }
   ],
   "source": [
    "#searching for all the tags starting with 'a' as all href(tags) are followed by it\n",
    "soup.find_all('a')"
   ]
  },
  {
   "cell_type": "code",
   "execution_count": 19,
   "metadata": {
    "collapsed": true
   },
   "outputs": [
    {
     "name": "stdout",
     "output_type": "stream",
     "text": [
      "http://popculture.com/page/about\n",
      "\n",
      "                    PopCulture Media\n",
      "                \n",
      "http://popculture.com\n",
      "\n",
      "                    PopCulture.com\n",
      "                \n",
      "https://twitter.com/ComicBook\n",
      "\n",
      "https://plus.google.com/+Comicbook/\n",
      "\n",
      "https://www.youtube.com/user/ComicBookCom/playlists\n",
      "\n",
      "http://www.popculture.com\n",
      "Pop Culture Media \n",
      "http://popculture.com\n",
      "PopCulture.com\n",
      "http://popculture.com/page/about\n",
      "About\n",
      "http://popculture.com/page/advertising\n",
      "Advertise\n",
      "http://popculture.com/page/contact\n",
      "Contact\n",
      "http://popculture.com/wwe\n",
      "WWE\n",
      "http://popculture.com/streaming\n",
      "Streaming\n",
      "https://www.youtube.com/user/ComicBookCom/playlists?sort=lad&view=1&flow=grid\n",
      "Video\n",
      "https://twitter.com/ComicBook\n",
      "\n",
      "                                Follow @ComicBook                            \n",
      "http://www.forsnydercut.com/\n",
      "For Snyder Cut\n",
      "http://www.tkqlhce.com/click-7966799-10369448-1440690209000\n",
      "\n",
      "            Buy Tickets powered by Fandango\n",
      "        \n",
      "http://popculture.com/\n",
      "\n",
      " \n"
     ]
    }
   ],
   "source": [
    "#filtering out the above results in following ways :\n",
    "# select a where href is followed by it\n",
    "# select href thats starts with http\n",
    "# select tags with http which does not contains our orignal domain name\n",
    "\n",
    "for link in soup.find_all('a', {'href':True}):\n",
    "    if (link['href'].startswith('http') and 'comicbook' not in link['href']):\n",
    "        print(link['href'])\n",
    "        print(link.get_text())"
   ]
  },
  {
   "cell_type": "code",
   "execution_count": 22,
   "metadata": {},
   "outputs": [
    {
     "name": "stdout",
     "output_type": "stream",
     "text": [
      "File saved successfully - Web-scraper.xlsx\n"
     ]
    }
   ],
   "source": [
    "#Checking if every url is valid or not valid\n",
    "import time\n",
    "import xlsxwriter\n",
    "def urlAnalyze(url):\n",
    "   urllink = url\n",
    "   result = \"\"\n",
    "   responseExcel = []\n",
    "   #checking if website is valid\n",
    "   http = urllib3.PoolManager()\n",
    "  \n",
    "   try:\n",
    "       if 'http' in urllink:\n",
    "           response = http.request('GET',url)\n",
    "           if response.status == 200:\n",
    "                result = 'true'\n",
    "                #\"hence website exits\"\n",
    "           else:\n",
    "               result = 'false'\n",
    "               #\"hence website does not exist\"\n",
    "   except Exception:\n",
    "           result = 'false'\n",
    "           #\"hence website does not exist\"\n",
    "  \n",
    "   if not result:\n",
    "       result = 'false'\n",
    "       \n",
    "   return result\n",
    "\n",
    "def excelDownload (excelOut):\n",
    "   filepath = 'Web-scraper.xlsx'\n",
    "    #Creating a workbook and adding a worksheet.\n",
    "   workbook = xlsxwriter.Workbook(filepath)\n",
    "   worksheet = workbook.add_worksheet()\n",
    " \n",
    "    # Add a bold format to use to highlight cells.\n",
    "   bold = workbook.add_format({'bold': 1})\n",
    " \n",
    "    # Adjust the column width.\n",
    "   worksheet.set_column(1, 1, 15)\n",
    " \n",
    "    # Write some data headers.\n",
    "   worksheet.write('A1', 'URL', bold)\n",
    "   worksheet.write('B1', 'Description', bold)\n",
    "   worksheet.write('C1', 'Validity', bold)\n",
    "   worksheet.write('D1', 'Timestamp', bold)\n",
    " \n",
    "    # Start from the first cell below the headers.\n",
    "   row = 1\n",
    "   col = 0\n",
    "   for url, txt_desc, valid, date_time in (excelOut):\n",
    "       worksheet.write_string  (row, col,     url)\n",
    "       worksheet.write_string  (row, col + 1, txt_desc)\n",
    "       worksheet.write_string  (row, col + 2, valid)\n",
    "       worksheet.write_string  (row, col + 3, date_time)\n",
    "       row += 1\n",
    " \n",
    "    \n",
    "   workbook.close()\n",
    "   print (\"File saved successfully - Web-scraper.xlsx\")\n",
    " \n",
    "excelOut = []\n",
    "for link in soup.find_all('a', {'href':True}):\n",
    "    if (link['href'].startswith('http') and 'comicbook' not in link['href']):    \n",
    "     response = urlAnalyze(link['href'])\n",
    "     excelOut.append([link['href'],link.get_text(), response,time.strftime(\"%c\")])\n",
    "excelDownload(excelOut)"
   ]
  }
 ],
 "metadata": {
  "kernelspec": {
   "display_name": "Python 3",
   "language": "python",
   "name": "python3"
  },
  "language_info": {
   "codemirror_mode": {
    "name": "ipython",
    "version": 3
   },
   "file_extension": ".py",
   "mimetype": "text/x-python",
   "name": "python",
   "nbconvert_exporter": "python",
   "pygments_lexer": "ipython3",
   "version": "3.6.3"
  }
 },
 "nbformat": 4,
 "nbformat_minor": 2
}
