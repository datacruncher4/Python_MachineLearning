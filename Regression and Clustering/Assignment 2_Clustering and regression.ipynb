{
 "cells": [
  {
   "cell_type": "markdown",
   "metadata": {
    "collapsed": true
   },
   "source": [
    "PART I : Clustering"
   ]
  },
  {
   "cell_type": "code",
   "execution_count": 6,
   "metadata": {},
   "outputs": [
    {
     "name": "stdout",
     "output_type": "stream",
     "text": [
      "Populating the interactive namespace from numpy and matplotlib\n"
     ]
    }
   ],
   "source": [
    "%matplotlib inline\n",
    "import matplotlib.pyplot as plt\n",
    "import numpy as np\n",
    "import pandas as pd\n",
    "from scipy import stats\n",
    "import seaborn as sns\n",
    "%pylab inline\n",
    "\n",
    "plt.rcParams['figure.figsize'] = (15, 7)\n",
    "qback = pd.read_csv(\"QBStats_all.csv\",sep=',')"
   ]
  },
  {
   "cell_type": "markdown",
   "metadata": {},
   "source": [
    "* Quarterback Name (qb)\n",
    "* Attempts (att)\n",
    "* Completions (cmp)\n",
    "* Yards (yds)\n",
    "* Yards per Attempt (ypa)\n",
    "* Touchdowns (td)\n",
    "* Interceptions (int)\n",
    "* Sacks (sack)\n",
    "* Loss of Yards (loss)\n",
    "* The NFL's Quarterback Rating for the game (rate)\n",
    "* Total points scored in the game (game_points)\n",
    "* Home or Away Game (home_away)\n",
    "* Year (year)"
   ]
  },
  {
   "cell_type": "code",
   "execution_count": 7,
   "metadata": {
    "collapsed": true
   },
   "outputs": [],
   "source": [
    "import sklearn\n",
    "from sklearn.cluster import KMeans\n",
    "from mpl_toolkits.mplot3d import Axes3D\n",
    "from sklearn.preprocessing import scale\n",
    "import sklearn.metrics as skm\n",
    "from sklearn.metrics import confusion_matrix, classification_report"
   ]
  },
  {
   "cell_type": "code",
   "execution_count": 8,
   "metadata": {
    "collapsed": true
   },
   "outputs": [],
   "source": [
    "import scipy\n",
    "from scipy.cluster.hierarchy import dendrogram, linkage\n",
    "from scipy.cluster.hierarchy import fcluster\n",
    "from scipy.cluster.hierarchy import cophenet\n",
    "from scipy.spatial.distance import pdist\n",
    "\n",
    "import matplotlib.pyplot as plt\n",
    "from pylab import rcParams\n",
    "import seaborn as sb\n",
    "\n",
    "import sklearn\n",
    "from sklearn.cluster import AgglomerativeClustering"
   ]
  },
  {
   "cell_type": "code",
   "execution_count": 9,
   "metadata": {
    "collapsed": true
   },
   "outputs": [],
   "source": [
    "plt.figure(figsize=(15,7))\n",
    "%matplotlib inline"
   ]
  },
  {
   "cell_type": "code",
   "execution_count": 10,
   "metadata": {},
   "outputs": [],
   "source": [
    "qback = pd.read_csv(\"QBStats_all.csv\",sep=',')"
   ]
  },
  {
   "cell_type": "code",
   "execution_count": 11,
   "metadata": {},
   "outputs": [
    {
     "data": {
      "text/html": [
       "<div>\n",
       "<style>\n",
       "    .dataframe thead tr:only-child th {\n",
       "        text-align: right;\n",
       "    }\n",
       "\n",
       "    .dataframe thead th {\n",
       "        text-align: left;\n",
       "    }\n",
       "\n",
       "    .dataframe tbody tr th {\n",
       "        vertical-align: top;\n",
       "    }\n",
       "</style>\n",
       "<table border=\"1\" class=\"dataframe\">\n",
       "  <thead>\n",
       "    <tr style=\"text-align: right;\">\n",
       "      <th></th>\n",
       "      <th>qb</th>\n",
       "      <th>att</th>\n",
       "      <th>cmp</th>\n",
       "      <th>yds</th>\n",
       "      <th>ypa</th>\n",
       "      <th>td</th>\n",
       "      <th>int</th>\n",
       "      <th>sack</th>\n",
       "      <th>loss</th>\n",
       "      <th>rate</th>\n",
       "      <th>game_points</th>\n",
       "      <th>home_away</th>\n",
       "      <th>year</th>\n",
       "    </tr>\n",
       "  </thead>\n",
       "  <tbody>\n",
       "    <tr>\n",
       "      <th>0</th>\n",
       "      <td>Boomer EsiasonB. Esiason</td>\n",
       "      <td>38</td>\n",
       "      <td>25</td>\n",
       "      <td>237.0</td>\n",
       "      <td>6.2</td>\n",
       "      <td>0</td>\n",
       "      <td>0.0</td>\n",
       "      <td>2.0</td>\n",
       "      <td>11.0</td>\n",
       "      <td>82.9</td>\n",
       "      <td>13</td>\n",
       "      <td>away</td>\n",
       "      <td>1996</td>\n",
       "    </tr>\n",
       "    <tr>\n",
       "      <th>1</th>\n",
       "      <td>Jim HarbaughJ. Harbaugh</td>\n",
       "      <td>25</td>\n",
       "      <td>16</td>\n",
       "      <td>196.0</td>\n",
       "      <td>7.8</td>\n",
       "      <td>2</td>\n",
       "      <td>1.0</td>\n",
       "      <td>0.0</td>\n",
       "      <td>0.0</td>\n",
       "      <td>98.1</td>\n",
       "      <td>20</td>\n",
       "      <td>home</td>\n",
       "      <td>1996</td>\n",
       "    </tr>\n",
       "    <tr>\n",
       "      <th>2</th>\n",
       "      <td>Paul JustinP. Justin</td>\n",
       "      <td>8</td>\n",
       "      <td>5</td>\n",
       "      <td>53.0</td>\n",
       "      <td>6.6</td>\n",
       "      <td>0</td>\n",
       "      <td>0.0</td>\n",
       "      <td>1.0</td>\n",
       "      <td>11.0</td>\n",
       "      <td>81.8</td>\n",
       "      <td>20</td>\n",
       "      <td>home</td>\n",
       "      <td>1996</td>\n",
       "    </tr>\n",
       "    <tr>\n",
       "      <th>3</th>\n",
       "      <td>Jeff GeorgeJ. George</td>\n",
       "      <td>35</td>\n",
       "      <td>16</td>\n",
       "      <td>215.0</td>\n",
       "      <td>6.1</td>\n",
       "      <td>0</td>\n",
       "      <td>0.0</td>\n",
       "      <td>7.0</td>\n",
       "      <td>53.0</td>\n",
       "      <td>65.8</td>\n",
       "      <td>6</td>\n",
       "      <td>away</td>\n",
       "      <td>1996</td>\n",
       "    </tr>\n",
       "    <tr>\n",
       "      <th>4</th>\n",
       "      <td>Kerry CollinsK. Collins</td>\n",
       "      <td>31</td>\n",
       "      <td>17</td>\n",
       "      <td>198.0</td>\n",
       "      <td>6.4</td>\n",
       "      <td>2</td>\n",
       "      <td>0.0</td>\n",
       "      <td>4.0</td>\n",
       "      <td>12.0</td>\n",
       "      <td>95.9</td>\n",
       "      <td>29</td>\n",
       "      <td>home</td>\n",
       "      <td>1996</td>\n",
       "    </tr>\n",
       "    <tr>\n",
       "      <th>5</th>\n",
       "      <td>Jeff BlakeJ. Blake</td>\n",
       "      <td>40</td>\n",
       "      <td>23</td>\n",
       "      <td>226.0</td>\n",
       "      <td>5.7</td>\n",
       "      <td>1</td>\n",
       "      <td>2.0</td>\n",
       "      <td>3.0</td>\n",
       "      <td>21.0</td>\n",
       "      <td>61.0</td>\n",
       "      <td>16</td>\n",
       "      <td>away</td>\n",
       "      <td>1996</td>\n",
       "    </tr>\n",
       "    <tr>\n",
       "      <th>6</th>\n",
       "      <td>Steve WalshS. Walsh</td>\n",
       "      <td>35</td>\n",
       "      <td>13</td>\n",
       "      <td>154.0</td>\n",
       "      <td>4.4</td>\n",
       "      <td>0</td>\n",
       "      <td>1.0</td>\n",
       "      <td>2.0</td>\n",
       "      <td>15.0</td>\n",
       "      <td>39.5</td>\n",
       "      <td>26</td>\n",
       "      <td>home</td>\n",
       "      <td>1996</td>\n",
       "    </tr>\n",
       "    <tr>\n",
       "      <th>7</th>\n",
       "      <td>Scott MitchellS. Mitchell</td>\n",
       "      <td>41</td>\n",
       "      <td>20</td>\n",
       "      <td>260.0</td>\n",
       "      <td>6.3</td>\n",
       "      <td>1</td>\n",
       "      <td>4.0</td>\n",
       "      <td>3.0</td>\n",
       "      <td>8.0</td>\n",
       "      <td>37.7</td>\n",
       "      <td>13</td>\n",
       "      <td>away</td>\n",
       "      <td>1996</td>\n",
       "    </tr>\n",
       "    <tr>\n",
       "      <th>8</th>\n",
       "      <td>Mark RoyalsM. Royals</td>\n",
       "      <td>1</td>\n",
       "      <td>1</td>\n",
       "      <td>-8.0</td>\n",
       "      <td>-8.0</td>\n",
       "      <td>0</td>\n",
       "      <td>0.0</td>\n",
       "      <td>0.0</td>\n",
       "      <td>0.0</td>\n",
       "      <td>79.2</td>\n",
       "      <td>13</td>\n",
       "      <td>away</td>\n",
       "      <td>1996</td>\n",
       "    </tr>\n",
       "    <tr>\n",
       "      <th>9</th>\n",
       "      <td>Brad JohnsonB. Johnson</td>\n",
       "      <td>23</td>\n",
       "      <td>16</td>\n",
       "      <td>157.0</td>\n",
       "      <td>6.8</td>\n",
       "      <td>1</td>\n",
       "      <td>0.0</td>\n",
       "      <td>1.0</td>\n",
       "      <td>7.0</td>\n",
       "      <td>103.0</td>\n",
       "      <td>17</td>\n",
       "      <td>home</td>\n",
       "      <td>1996</td>\n",
       "    </tr>\n",
       "    <tr>\n",
       "      <th>10</th>\n",
       "      <td>Warren MoonW. Moon</td>\n",
       "      <td>14</td>\n",
       "      <td>5</td>\n",
       "      <td>57.0</td>\n",
       "      <td>4.1</td>\n",
       "      <td>0</td>\n",
       "      <td>0.0</td>\n",
       "      <td>3.0</td>\n",
       "      <td>24.0</td>\n",
       "      <td>48.8</td>\n",
       "      <td>17</td>\n",
       "      <td>home</td>\n",
       "      <td>1996</td>\n",
       "    </tr>\n",
       "    <tr>\n",
       "      <th>11</th>\n",
       "      <td>Steve BonoS. Bono</td>\n",
       "      <td>37</td>\n",
       "      <td>21</td>\n",
       "      <td>192.0</td>\n",
       "      <td>5.2</td>\n",
       "      <td>2</td>\n",
       "      <td>0.0</td>\n",
       "      <td>1.0</td>\n",
       "      <td>23.0</td>\n",
       "      <td>89.0</td>\n",
       "      <td>20</td>\n",
       "      <td>away</td>\n",
       "      <td>1996</td>\n",
       "    </tr>\n",
       "    <tr>\n",
       "      <th>12</th>\n",
       "      <td>Chris ChandlerC. Chandler</td>\n",
       "      <td>29</td>\n",
       "      <td>16</td>\n",
       "      <td>216.0</td>\n",
       "      <td>7.4</td>\n",
       "      <td>1</td>\n",
       "      <td>1.0</td>\n",
       "      <td>3.0</td>\n",
       "      <td>25.0</td>\n",
       "      <td>76.2</td>\n",
       "      <td>19</td>\n",
       "      <td>home</td>\n",
       "      <td>1996</td>\n",
       "    </tr>\n",
       "    <tr>\n",
       "      <th>13</th>\n",
       "      <td>Billy Joe HobertB. Hobert</td>\n",
       "      <td>26</td>\n",
       "      <td>17</td>\n",
       "      <td>192.0</td>\n",
       "      <td>7.4</td>\n",
       "      <td>2</td>\n",
       "      <td>2.0</td>\n",
       "      <td>3.0</td>\n",
       "      <td>14.0</td>\n",
       "      <td>80.9</td>\n",
       "      <td>14</td>\n",
       "      <td>away</td>\n",
       "      <td>1996</td>\n",
       "    </tr>\n",
       "    <tr>\n",
       "      <th>14</th>\n",
       "      <td>Vinny TestaverdeV. Testaverde</td>\n",
       "      <td>33</td>\n",
       "      <td>19</td>\n",
       "      <td>254.0</td>\n",
       "      <td>7.7</td>\n",
       "      <td>0</td>\n",
       "      <td>0.0</td>\n",
       "      <td>3.0</td>\n",
       "      <td>35.0</td>\n",
       "      <td>82.1</td>\n",
       "      <td>19</td>\n",
       "      <td>home</td>\n",
       "      <td>1996</td>\n",
       "    </tr>\n",
       "    <tr>\n",
       "      <th>15</th>\n",
       "      <td>Rodney PeeteR. Peete</td>\n",
       "      <td>34</td>\n",
       "      <td>20</td>\n",
       "      <td>269.0</td>\n",
       "      <td>7.9</td>\n",
       "      <td>2</td>\n",
       "      <td>1.0</td>\n",
       "      <td>2.0</td>\n",
       "      <td>11.0</td>\n",
       "      <td>91.4</td>\n",
       "      <td>17</td>\n",
       "      <td>away</td>\n",
       "      <td>1996</td>\n",
       "    </tr>\n",
       "    <tr>\n",
       "      <th>16</th>\n",
       "      <td>Gus FrerotteG. Frerotte</td>\n",
       "      <td>25</td>\n",
       "      <td>12</td>\n",
       "      <td>119.0</td>\n",
       "      <td>4.8</td>\n",
       "      <td>0</td>\n",
       "      <td>0.0</td>\n",
       "      <td>3.0</td>\n",
       "      <td>26.0</td>\n",
       "      <td>61.9</td>\n",
       "      <td>14</td>\n",
       "      <td>home</td>\n",
       "      <td>1996</td>\n",
       "    </tr>\n",
       "    <tr>\n",
       "      <th>17</th>\n",
       "      <td>Jim MillerJ. Miller</td>\n",
       "      <td>17</td>\n",
       "      <td>9</td>\n",
       "      <td>83.0</td>\n",
       "      <td>4.9</td>\n",
       "      <td>0</td>\n",
       "      <td>0.0</td>\n",
       "      <td>2.0</td>\n",
       "      <td>7.0</td>\n",
       "      <td>66.5</td>\n",
       "      <td>9</td>\n",
       "      <td>away</td>\n",
       "      <td>1996</td>\n",
       "    </tr>\n",
       "    <tr>\n",
       "      <th>18</th>\n",
       "      <td>Mike TomczakM. Tomczak</td>\n",
       "      <td>4</td>\n",
       "      <td>3</td>\n",
       "      <td>24.0</td>\n",
       "      <td>6.0</td>\n",
       "      <td>0</td>\n",
       "      <td>1.0</td>\n",
       "      <td>2.0</td>\n",
       "      <td>14.0</td>\n",
       "      <td>50.0</td>\n",
       "      <td>9</td>\n",
       "      <td>away</td>\n",
       "      <td>1996</td>\n",
       "    </tr>\n",
       "    <tr>\n",
       "      <th>19</th>\n",
       "      <td>Kordell StewartK. Stewart</td>\n",
       "      <td>2</td>\n",
       "      <td>0</td>\n",
       "      <td>0.0</td>\n",
       "      <td>0.0</td>\n",
       "      <td>0</td>\n",
       "      <td>0.0</td>\n",
       "      <td>0.0</td>\n",
       "      <td>0.0</td>\n",
       "      <td>39.6</td>\n",
       "      <td>9</td>\n",
       "      <td>away</td>\n",
       "      <td>1996</td>\n",
       "    </tr>\n",
       "    <tr>\n",
       "      <th>20</th>\n",
       "      <td>Mark BrunellM. Brunell</td>\n",
       "      <td>31</td>\n",
       "      <td>20</td>\n",
       "      <td>212.0</td>\n",
       "      <td>6.8</td>\n",
       "      <td>2</td>\n",
       "      <td>2.0</td>\n",
       "      <td>4.0</td>\n",
       "      <td>18.0</td>\n",
       "      <td>79.0</td>\n",
       "      <td>24</td>\n",
       "      <td>home</td>\n",
       "      <td>1996</td>\n",
       "    </tr>\n",
       "    <tr>\n",
       "      <th>21</th>\n",
       "      <td>Brett FavreB. Favre</td>\n",
       "      <td>27</td>\n",
       "      <td>20</td>\n",
       "      <td>247.0</td>\n",
       "      <td>9.1</td>\n",
       "      <td>4</td>\n",
       "      <td>0.0</td>\n",
       "      <td>1.0</td>\n",
       "      <td>4.0</td>\n",
       "      <td>141.5</td>\n",
       "      <td>34</td>\n",
       "      <td>away</td>\n",
       "      <td>1996</td>\n",
       "    </tr>\n",
       "    <tr>\n",
       "      <th>22</th>\n",
       "      <td>Jim McMahonJ. McMahon</td>\n",
       "      <td>1</td>\n",
       "      <td>1</td>\n",
       "      <td>24.0</td>\n",
       "      <td>24.0</td>\n",
       "      <td>0</td>\n",
       "      <td>0.0</td>\n",
       "      <td>0.0</td>\n",
       "      <td>0.0</td>\n",
       "      <td>118.8</td>\n",
       "      <td>34</td>\n",
       "      <td>away</td>\n",
       "      <td>1996</td>\n",
       "    </tr>\n",
       "    <tr>\n",
       "      <th>23</th>\n",
       "      <td>Trent DilferT. Dilfer</td>\n",
       "      <td>30</td>\n",
       "      <td>13</td>\n",
       "      <td>123.0</td>\n",
       "      <td>4.1</td>\n",
       "      <td>0</td>\n",
       "      <td>4.0</td>\n",
       "      <td>1.0</td>\n",
       "      <td>6.0</td>\n",
       "      <td>15.7</td>\n",
       "      <td>3</td>\n",
       "      <td>home</td>\n",
       "      <td>1996</td>\n",
       "    </tr>\n",
       "    <tr>\n",
       "      <th>24</th>\n",
       "      <td>Drew BledsoeD. Bledsoe</td>\n",
       "      <td>38</td>\n",
       "      <td>19</td>\n",
       "      <td>221.0</td>\n",
       "      <td>5.8</td>\n",
       "      <td>1</td>\n",
       "      <td>2.0</td>\n",
       "      <td>4.0</td>\n",
       "      <td>21.0</td>\n",
       "      <td>54.8</td>\n",
       "      <td>10</td>\n",
       "      <td>away</td>\n",
       "      <td>1996</td>\n",
       "    </tr>\n",
       "  </tbody>\n",
       "</table>\n",
       "</div>"
      ],
      "text/plain": [
       "                               qb  att  cmp    yds   ypa  td  int  sack  loss  \\\n",
       "0        Boomer EsiasonB. Esiason   38   25  237.0   6.2   0  0.0   2.0  11.0   \n",
       "1         Jim HarbaughJ. Harbaugh   25   16  196.0   7.8   2  1.0   0.0   0.0   \n",
       "2            Paul JustinP. Justin    8    5   53.0   6.6   0  0.0   1.0  11.0   \n",
       "3            Jeff GeorgeJ. George   35   16  215.0   6.1   0  0.0   7.0  53.0   \n",
       "4         Kerry CollinsK. Collins   31   17  198.0   6.4   2  0.0   4.0  12.0   \n",
       "5              Jeff BlakeJ. Blake   40   23  226.0   5.7   1  2.0   3.0  21.0   \n",
       "6             Steve WalshS. Walsh   35   13  154.0   4.4   0  1.0   2.0  15.0   \n",
       "7       Scott MitchellS. Mitchell   41   20  260.0   6.3   1  4.0   3.0   8.0   \n",
       "8            Mark RoyalsM. Royals    1    1   -8.0  -8.0   0  0.0   0.0   0.0   \n",
       "9          Brad JohnsonB. Johnson   23   16  157.0   6.8   1  0.0   1.0   7.0   \n",
       "10             Warren MoonW. Moon   14    5   57.0   4.1   0  0.0   3.0  24.0   \n",
       "11              Steve BonoS. Bono   37   21  192.0   5.2   2  0.0   1.0  23.0   \n",
       "12      Chris ChandlerC. Chandler   29   16  216.0   7.4   1  1.0   3.0  25.0   \n",
       "13      Billy Joe HobertB. Hobert   26   17  192.0   7.4   2  2.0   3.0  14.0   \n",
       "14  Vinny TestaverdeV. Testaverde   33   19  254.0   7.7   0  0.0   3.0  35.0   \n",
       "15           Rodney PeeteR. Peete   34   20  269.0   7.9   2  1.0   2.0  11.0   \n",
       "16        Gus FrerotteG. Frerotte   25   12  119.0   4.8   0  0.0   3.0  26.0   \n",
       "17            Jim MillerJ. Miller   17    9   83.0   4.9   0  0.0   2.0   7.0   \n",
       "18         Mike TomczakM. Tomczak    4    3   24.0   6.0   0  1.0   2.0  14.0   \n",
       "19      Kordell StewartK. Stewart    2    0    0.0   0.0   0  0.0   0.0   0.0   \n",
       "20         Mark BrunellM. Brunell   31   20  212.0   6.8   2  2.0   4.0  18.0   \n",
       "21            Brett FavreB. Favre   27   20  247.0   9.1   4  0.0   1.0   4.0   \n",
       "22          Jim McMahonJ. McMahon    1    1   24.0  24.0   0  0.0   0.0   0.0   \n",
       "23          Trent DilferT. Dilfer   30   13  123.0   4.1   0  4.0   1.0   6.0   \n",
       "24         Drew BledsoeD. Bledsoe   38   19  221.0   5.8   1  2.0   4.0  21.0   \n",
       "\n",
       "     rate  game_points home_away  year  \n",
       "0    82.9           13      away  1996  \n",
       "1    98.1           20      home  1996  \n",
       "2    81.8           20      home  1996  \n",
       "3    65.8            6      away  1996  \n",
       "4    95.9           29      home  1996  \n",
       "5    61.0           16      away  1996  \n",
       "6    39.5           26      home  1996  \n",
       "7    37.7           13      away  1996  \n",
       "8    79.2           13      away  1996  \n",
       "9   103.0           17      home  1996  \n",
       "10   48.8           17      home  1996  \n",
       "11   89.0           20      away  1996  \n",
       "12   76.2           19      home  1996  \n",
       "13   80.9           14      away  1996  \n",
       "14   82.1           19      home  1996  \n",
       "15   91.4           17      away  1996  \n",
       "16   61.9           14      home  1996  \n",
       "17   66.5            9      away  1996  \n",
       "18   50.0            9      away  1996  \n",
       "19   39.6            9      away  1996  \n",
       "20   79.0           24      home  1996  \n",
       "21  141.5           34      away  1996  \n",
       "22  118.8           34      away  1996  \n",
       "23   15.7            3      home  1996  \n",
       "24   54.8           10      away  1996  "
      ]
     },
     "execution_count": 11,
     "metadata": {},
     "output_type": "execute_result"
    }
   ],
   "source": [
    "qback.fillna(0, inplace=True)\n",
    "qback.head(25)"
   ]
  },
  {
   "cell_type": "code",
   "execution_count": 12,
   "metadata": {
    "collapsed": true
   },
   "outputs": [],
   "source": [
    "qback['home_away'] = qback['home_away'].map({'home': 1, 'away': 0})"
   ]
  },
  {
   "cell_type": "code",
   "execution_count": 13,
   "metadata": {},
   "outputs": [
    {
     "name": "stdout",
     "output_type": "stream",
     "text": [
      "<class 'pandas.core.frame.DataFrame'>\n",
      "RangeIndex: 13188 entries, 0 to 13187\n",
      "Data columns (total 13 columns):\n",
      "qb             13188 non-null object\n",
      "att            13188 non-null int64\n",
      "cmp            13188 non-null int64\n",
      "yds            13188 non-null float64\n",
      "ypa            13188 non-null float64\n",
      "td             13188 non-null int64\n",
      "int            13188 non-null float64\n",
      "sack           13188 non-null float64\n",
      "loss           13188 non-null float64\n",
      "rate           13188 non-null float64\n",
      "game_points    13188 non-null int64\n",
      "home_away      13188 non-null int64\n",
      "year           13188 non-null int64\n",
      "dtypes: float64(6), int64(6), object(1)\n",
      "memory usage: 1.3+ MB\n"
     ]
    }
   ],
   "source": [
    "qback.head()\n",
    "qback.info()"
   ]
  },
  {
   "cell_type": "code",
   "execution_count": 14,
   "metadata": {},
   "outputs": [
    {
     "data": {
      "text/plain": [
       "qb             0\n",
       "att            0\n",
       "cmp            0\n",
       "yds            0\n",
       "ypa            0\n",
       "td             0\n",
       "int            0\n",
       "sack           0\n",
       "loss           0\n",
       "rate           0\n",
       "game_points    0\n",
       "home_away      0\n",
       "year           0\n",
       "dtype: int64"
      ]
     },
     "execution_count": 14,
     "metadata": {},
     "output_type": "execute_result"
    }
   ],
   "source": [
    "qback.isnull().sum()"
   ]
  },
  {
   "cell_type": "code",
   "execution_count": 15,
   "metadata": {},
   "outputs": [
    {
     "data": {
      "text/plain": [
       "<matplotlib.axes._subplots.AxesSubplot at 0x1a18957828>"
      ]
     },
     "execution_count": 15,
     "metadata": {},
     "output_type": "execute_result"
    },
    {
     "data": {
      "image/png": "[encoded data removed]",
      "text/plain": [
       "<matplotlib.figure.Figure at 0x1a18932ac8>"
      ]
     },
     "metadata": {},
     "output_type": "display_data"
    }
   ],
   "source": [
    "#plotting heatmap to check for the variables with linear relation\n",
    "plt.figure(figsize=(15,7))\n",
    "corr=qback.corr()\n",
    "sns.heatmap(corr,annot=True)"
   ]
  },
  {
   "cell_type": "markdown",
   "metadata": {},
   "source": [
    "Hierarchical clustering"
   ]
  },
  {
   "cell_type": "code",
   "execution_count": 16,
   "metadata": {},
   "outputs": [
    {
     "name": "stderr",
     "output_type": "stream",
     "text": [
      "/anaconda3/lib/python3.6/site-packages/ipykernel_launcher.py:3: DeprecationWarning: \n",
      ".ix is deprecated. Please use\n",
      ".loc for label based indexing or\n",
      ".iloc for positional indexing\n",
      "\n",
      "See the documentation here:\n",
      "http://pandas.pydata.org/pandas-docs/stable/indexing.html#ix-indexer-is-deprecated\n",
      "  This is separate from the ipykernel package so we can avoid doing imports until\n"
     ]
    }
   ],
   "source": [
    "#selecting the variables\n",
    "\n",
    "X = qback.ix[:, (\"att\", \"cmp\")].values\n",
    "y = qback.ix[:,(\"home_away\")].values"
   ]
  },
  {
   "cell_type": "code",
   "execution_count": 17,
   "metadata": {},
   "outputs": [
    {
     "data": {
      "text/plain": [
       "[]"
      ]
     },
     "execution_count": 17,
     "metadata": {},
     "output_type": "execute_result"
    },
    {
     "data": {
      "image/png": "[encoded data removed]",
      "text/plain": [
       "<matplotlib.figure.Figure at 0x1a1903b828>"
      ]
     },
     "metadata": {},
     "output_type": "display_data"
    }
   ],
   "source": [
    "#calling the clustering function\n",
    "Z = linkage(X,\"ward\")\n",
    "\n",
    "#generating dendrogram\n",
    "dendrogram(Z, truncate_mode=\"lastp\", p=12, leaf_rotation=45,leaf_font_size=15.,show_contracted=True)\n",
    "\n",
    "plt.title(\"Truncated Hierarchical Clustering Dendrogram\")\n",
    "plt.xlabel(\"Cluster size\")\n",
    "plt.ylabel(\"Distance\")\n",
    "\n",
    "plt.axhline(y=1500)\n",
    "plt.axhline(y=750)\n",
    "\n",
    "plt.plot()"
   ]
  },
  {
   "cell_type": "code",
   "execution_count": 18,
   "metadata": {},
   "outputs": [
    {
     "data": {
      "text/plain": [
       "0.50166818319684559"
      ]
     },
     "execution_count": 18,
     "metadata": {},
     "output_type": "execute_result"
    }
   ],
   "source": [
    "#number of cluster based on y = 1500\n",
    "k = 2\n",
    "\n",
    "#selecting distance matrix and linkage parameters\n",
    "Hclustering = AgglomerativeClustering(n_clusters=k, affinity=\"euclidean\",linkage=\"ward\")\n",
    "\n",
    "#fitting the model on our data\n",
    "Hclustering.fit(X)\n",
    "\n",
    "#checking the accuracy of our model\n",
    "skm.accuracy_score(y, Hclustering.labels_)"
   ]
  },
  {
   "cell_type": "code",
   "execution_count": 19,
   "metadata": {},
   "outputs": [
    {
     "data": {
      "text/plain": [
       "0.51031240521686383"
      ]
     },
     "execution_count": 19,
     "metadata": {},
     "output_type": "execute_result"
    }
   ],
   "source": [
    "k = 2\n",
    "Hclustering = AgglomerativeClustering(n_clusters=k, affinity=\"euclidean\",linkage=\"complete\")\n",
    "Hclustering.fit(X)\n",
    "skm.accuracy_score(y, Hclustering.labels_)"
   ]
  },
  {
   "cell_type": "code",
   "execution_count": 20,
   "metadata": {},
   "outputs": [
    {
     "data": {
      "text/plain": [
       "0.49719441916894147"
      ]
     },
     "execution_count": 20,
     "metadata": {},
     "output_type": "execute_result"
    }
   ],
   "source": [
    "k = 2\n",
    "Hclustering = AgglomerativeClustering(n_clusters=k, affinity=\"manhattan\",linkage=\"average\")\n",
    "Hclustering.fit(X)\n",
    "skm.accuracy_score(y, Hclustering.labels_)"
   ]
  },
  {
   "cell_type": "code",
   "execution_count": 21,
   "metadata": {},
   "outputs": [
    {
     "data": {
      "image/png": "[encoded data removed]",
      "text/plain": [
       "<matplotlib.figure.Figure at 0x1a1ca95f28>"
      ]
     },
     "metadata": {},
     "output_type": "display_data"
    }
   ],
   "source": [
    "hc = AgglomerativeClustering(n_clusters = 2, affinity = 'euclidean', linkage = 'ward')\n",
    "y_hc = hc.fit_predict(X)\n",
    "\n",
    "#display the clusters\n",
    "\n",
    "plt.scatter(X[y_hc == 0,0], X[y_hc ==0, 1], c = 'blue', label = 'Medium conversion')\n",
    "plt.scatter(X[y_hc == 1,0], X[y_hc ==1, 1], c = 'green', label = 'Low conversion')\n",
    "#plt.scatter(X[y_hc == 2,0], X[y_hc ==2, 1], c = 'red', label = 'High conversion')\n",
    "\n",
    "plt.title('The Clusters')\n",
    "plt.xlabel('Attempts')\n",
    "plt.ylabel('Completions')\n",
    "plt.legend()\n",
    "plt.show()"
   ]
  },
  {
   "cell_type": "markdown",
   "metadata": {},
   "source": [
    "K means clustering"
   ]
  },
  {
   "cell_type": "code",
   "execution_count": 22,
   "metadata": {},
   "outputs": [
    {
     "data": {
      "image/png": "[encoded data removed]",
      "text/plain": [
       "<matplotlib.figure.Figure at 0x1a19051908>"
      ]
     },
     "metadata": {},
     "output_type": "display_data"
    }
   ],
   "source": [
    "#the Elbow method to get a value of K\n",
    "#WCSS (within-cluster sums of squares)\n",
    "wcss = []\n",
    "for i in range(1,11):\n",
    "    kmeans = KMeans(n_clusters=i, init = 'k-means++',max_iter=300, n_init = 10, random_state = 0)\n",
    "    kmeans.fit(X)\n",
    "    wcss.append(kmeans.inertia_)    #inertia - sum of squares within clusters\n",
    "plt.plot(range(1,11), wcss) \n",
    "plt.title('The Elbow Method')\n",
    "plt.xlabel('No. of Clusters')\n",
    "plt.ylabel('WCSS')\n",
    "plt.show()"
   ]
  },
  {
   "cell_type": "code",
   "execution_count": 23,
   "metadata": {},
   "outputs": [
    {
     "data": {
      "image/png": "[encoded data removed]",
      "text/plain": [
       "<matplotlib.figure.Figure at 0x1a1ca7d5f8>"
      ]
     },
     "metadata": {},
     "output_type": "display_data"
    }
   ],
   "source": [
    "kmeans = KMeans(n_clusters=2, init = 'k-means++',max_iter=300, n_init = 10, random_state = 0)\n",
    "y_kmeans = kmeans.fit_predict(X)\n",
    "\n",
    "#display the clusters\n",
    "\n",
    "plt.scatter(X[y_kmeans == 0,0], X[y_kmeans ==0, 1], s = 20, c = 'red', label = 'Cluster 1')\n",
    "plt.scatter(X[y_kmeans == 1,0], X[y_kmeans ==1, 1], s = 20, c = 'green', label = 'Cluster 2')\n",
    "#plt.scatter(X[y_kmeans == 2,0], X[y_kmeans ==2, 1], s = 20, c = 'blue', label = 'Cluster 3')\n",
    "\n",
    "plt.scatter(kmeans.cluster_centers_[:,0],kmeans.cluster_centers_[:,1],s=50 , c = 'black', label = 'Centroid')\n",
    "plt.title('The Clusters')\n",
    "plt.xlabel('Completions')\n",
    "plt.ylabel('Attempts')\n",
    "plt.legend()\n",
    "plt.show()"
   ]
  },
  {
   "cell_type": "code",
   "execution_count": 24,
   "metadata": {},
   "outputs": [
    {
     "name": "stdout",
     "output_type": "stream",
     "text": [
      "             precision    recall  f1-score   support\n",
      "\n",
      "          0       0.50      0.72      0.59      6559\n",
      "          1       0.51      0.28      0.36      6629\n",
      "\n",
      "avg / total       0.50      0.50      0.48     13188\n",
      "\n"
     ]
    }
   ],
   "source": [
    "#checking accuracy of the model\n",
    "print(classification_report(y, y_kmeans))"
   ]
  },
  {
   "cell_type": "markdown",
   "metadata": {},
   "source": [
    "Precision: measure of model's relevancy\n",
    "Recall: measure of model's completeness"
   ]
  },
  {
   "cell_type": "markdown",
   "metadata": {},
   "source": [
    "The clusters generated by both the methods are pretty identical\n",
    "\n",
    "The cluster shows some interesting groupings"
   ]
  },
  {
   "cell_type": "markdown",
   "metadata": {},
   "source": [
    "PART II : Linear Regression"
   ]
  },
  {
   "cell_type": "code",
   "execution_count": 25,
   "metadata": {},
   "outputs": [
    {
     "name": "stderr",
     "output_type": "stream",
     "text": [
      "/anaconda3/lib/python3.6/site-packages/statsmodels/compat/pandas.py:56: FutureWarning: The pandas.core.datetools module is deprecated and will be removed in a future version. Please use the pandas.tseries module instead.\n",
      "  from pandas.core import datetools\n",
      "/anaconda3/lib/python3.6/site-packages/sklearn/cross_validation.py:41: DeprecationWarning: This module was deprecated in version 0.18 in favor of the model_selection module into which all the refactored classes and functions are moved. Also note that the interface of the new CV iterators are different from that of this module. This module will be removed in 0.20.\n",
      "  \"This module will be removed in 0.20.\", DeprecationWarning)\n"
     ]
    }
   ],
   "source": [
    "from pylab import rcParams\n",
    "import sklearn\n",
    "from sklearn.linear_model import LinearRegression, LogisticRegression\n",
    "from sklearn.preprocessing import scale\n",
    "from collections import Counter\n",
    "from scipy import stats\n",
    "from sklearn.metrics import mean_squared_error, make_scorer, r2_score\n",
    "from sklearn.metrics import accuracy_score\n",
    "from math import sqrt\n",
    "from sklearn import linear_model\n",
    "from statsmodels.formula.api import ols\n",
    "from sklearn.linear_model import LinearRegression, Ridge, Lasso\n",
    "from sklearn.preprocessing import PolynomialFeatures\n",
    "from sklearn.pipeline import make_pipeline\n",
    "from patsy import dmatrices\n",
    "import statsmodels.api as sm\n",
    "from statsmodels.stats.outliers_influence import variance_inflation_factor\n",
    "from sklearn.linear_model import Ridge, RidgeCV\n",
    "from sklearn import linear_model, datasets\n",
    "plt.rcParams['figure.figsize'] = (15, 7)\n",
    "from sklearn.cross_validation import KFold, cross_val_score, train_test_split"
   ]
  },
  {
   "cell_type": "code",
   "execution_count": 26,
   "metadata": {},
   "outputs": [
    {
     "data": {
      "text/html": [
       "<div>\n",
       "<style>\n",
       "    .dataframe thead tr:only-child th {\n",
       "        text-align: right;\n",
       "    }\n",
       "\n",
       "    .dataframe thead th {\n",
       "        text-align: left;\n",
       "    }\n",
       "\n",
       "    .dataframe tbody tr th {\n",
       "        vertical-align: top;\n",
       "    }\n",
       "</style>\n",
       "<table border=\"1\" class=\"dataframe\">\n",
       "  <thead>\n",
       "    <tr style=\"text-align: right;\">\n",
       "      <th></th>\n",
       "      <th>qb</th>\n",
       "      <th>att</th>\n",
       "      <th>cmp</th>\n",
       "      <th>yds</th>\n",
       "      <th>ypa</th>\n",
       "      <th>td</th>\n",
       "      <th>int</th>\n",
       "      <th>sack</th>\n",
       "      <th>loss</th>\n",
       "      <th>rate</th>\n",
       "      <th>game_points</th>\n",
       "      <th>home_away</th>\n",
       "      <th>year</th>\n",
       "    </tr>\n",
       "  </thead>\n",
       "  <tbody>\n",
       "    <tr>\n",
       "      <th>0</th>\n",
       "      <td>Boomer EsiasonB. Esiason</td>\n",
       "      <td>38</td>\n",
       "      <td>25</td>\n",
       "      <td>237.0</td>\n",
       "      <td>6.2</td>\n",
       "      <td>0</td>\n",
       "      <td>0.0</td>\n",
       "      <td>2.0</td>\n",
       "      <td>11.0</td>\n",
       "      <td>82.9</td>\n",
       "      <td>13</td>\n",
       "      <td>0</td>\n",
       "      <td>1996</td>\n",
       "    </tr>\n",
       "    <tr>\n",
       "      <th>1</th>\n",
       "      <td>Jim HarbaughJ. Harbaugh</td>\n",
       "      <td>25</td>\n",
       "      <td>16</td>\n",
       "      <td>196.0</td>\n",
       "      <td>7.8</td>\n",
       "      <td>2</td>\n",
       "      <td>1.0</td>\n",
       "      <td>0.0</td>\n",
       "      <td>0.0</td>\n",
       "      <td>98.1</td>\n",
       "      <td>20</td>\n",
       "      <td>1</td>\n",
       "      <td>1996</td>\n",
       "    </tr>\n",
       "    <tr>\n",
       "      <th>2</th>\n",
       "      <td>Paul JustinP. Justin</td>\n",
       "      <td>8</td>\n",
       "      <td>5</td>\n",
       "      <td>53.0</td>\n",
       "      <td>6.6</td>\n",
       "      <td>0</td>\n",
       "      <td>0.0</td>\n",
       "      <td>1.0</td>\n",
       "      <td>11.0</td>\n",
       "      <td>81.8</td>\n",
       "      <td>20</td>\n",
       "      <td>1</td>\n",
       "      <td>1996</td>\n",
       "    </tr>\n",
       "    <tr>\n",
       "      <th>3</th>\n",
       "      <td>Jeff GeorgeJ. George</td>\n",
       "      <td>35</td>\n",
       "      <td>16</td>\n",
       "      <td>215.0</td>\n",
       "      <td>6.1</td>\n",
       "      <td>0</td>\n",
       "      <td>0.0</td>\n",
       "      <td>7.0</td>\n",
       "      <td>53.0</td>\n",
       "      <td>65.8</td>\n",
       "      <td>6</td>\n",
       "      <td>0</td>\n",
       "      <td>1996</td>\n",
       "    </tr>\n",
       "    <tr>\n",
       "      <th>4</th>\n",
       "      <td>Kerry CollinsK. Collins</td>\n",
       "      <td>31</td>\n",
       "      <td>17</td>\n",
       "      <td>198.0</td>\n",
       "      <td>6.4</td>\n",
       "      <td>2</td>\n",
       "      <td>0.0</td>\n",
       "      <td>4.0</td>\n",
       "      <td>12.0</td>\n",
       "      <td>95.9</td>\n",
       "      <td>29</td>\n",
       "      <td>1</td>\n",
       "      <td>1996</td>\n",
       "    </tr>\n",
       "  </tbody>\n",
       "</table>\n",
       "</div>"
      ],
      "text/plain": [
       "                         qb  att  cmp    yds  ypa  td  int  sack  loss  rate  \\\n",
       "0  Boomer EsiasonB. Esiason   38   25  237.0  6.2   0  0.0   2.0  11.0  82.9   \n",
       "1   Jim HarbaughJ. Harbaugh   25   16  196.0  7.8   2  1.0   0.0   0.0  98.1   \n",
       "2      Paul JustinP. Justin    8    5   53.0  6.6   0  0.0   1.0  11.0  81.8   \n",
       "3      Jeff GeorgeJ. George   35   16  215.0  6.1   0  0.0   7.0  53.0  65.8   \n",
       "4   Kerry CollinsK. Collins   31   17  198.0  6.4   2  0.0   4.0  12.0  95.9   \n",
       "\n",
       "   game_points  home_away  year  \n",
       "0           13          0  1996  \n",
       "1           20          1  1996  \n",
       "2           20          1  1996  \n",
       "3            6          0  1996  \n",
       "4           29          1  1996  "
      ]
     },
     "execution_count": 26,
     "metadata": {},
     "output_type": "execute_result"
    }
   ],
   "source": [
    "qback = pd.read_csv(\"QBStats_all.csv\",sep=',')\n",
    "qback['home_away'] = qback['home_away'].map({'home': 1, 'away': 0})\n",
    "qback.fillna(0, inplace=True)\n",
    "qback.head()"
   ]
  },
  {
   "cell_type": "code",
   "execution_count": 27,
   "metadata": {},
   "outputs": [
    {
     "data": {
      "text/html": [
       "<div>\n",
       "<style>\n",
       "    .dataframe thead tr:only-child th {\n",
       "        text-align: right;\n",
       "    }\n",
       "\n",
       "    .dataframe thead th {\n",
       "        text-align: left;\n",
       "    }\n",
       "\n",
       "    .dataframe tbody tr th {\n",
       "        vertical-align: top;\n",
       "    }\n",
       "</style>\n",
       "<table border=\"1\" class=\"dataframe\">\n",
       "  <thead>\n",
       "    <tr style=\"text-align: right;\">\n",
       "      <th></th>\n",
       "      <th>att</th>\n",
       "      <th>cmp</th>\n",
       "      <th>yds</th>\n",
       "      <th>ypa</th>\n",
       "      <th>td</th>\n",
       "      <th>int</th>\n",
       "      <th>sack</th>\n",
       "      <th>loss</th>\n",
       "      <th>rate</th>\n",
       "      <th>game_points</th>\n",
       "      <th>home_away</th>\n",
       "      <th>year</th>\n",
       "    </tr>\n",
       "  </thead>\n",
       "  <tbody>\n",
       "    <tr>\n",
       "      <th>att</th>\n",
       "      <td>1.000000</td>\n",
       "      <td>0.939638</td>\n",
       "      <td>0.869236</td>\n",
       "      <td>0.022253</td>\n",
       "      <td>0.438812</td>\n",
       "      <td>0.383048</td>\n",
       "      <td>0.374867</td>\n",
       "      <td>0.351187</td>\n",
       "      <td>0.136832</td>\n",
       "      <td>-0.001041</td>\n",
       "      <td>-0.023886</td>\n",
       "      <td>0.119987</td>\n",
       "    </tr>\n",
       "    <tr>\n",
       "      <th>cmp</th>\n",
       "      <td>0.939638</td>\n",
       "      <td>1.000000</td>\n",
       "      <td>0.908164</td>\n",
       "      <td>0.114146</td>\n",
       "      <td>0.515727</td>\n",
       "      <td>0.280330</td>\n",
       "      <td>0.323591</td>\n",
       "      <td>0.301708</td>\n",
       "      <td>0.316401</td>\n",
       "      <td>0.113144</td>\n",
       "      <td>-0.006244</td>\n",
       "      <td>0.168255</td>\n",
       "    </tr>\n",
       "    <tr>\n",
       "      <th>yds</th>\n",
       "      <td>0.869236</td>\n",
       "      <td>0.908164</td>\n",
       "      <td>1.000000</td>\n",
       "      <td>0.262215</td>\n",
       "      <td>0.618155</td>\n",
       "      <td>0.244044</td>\n",
       "      <td>0.292800</td>\n",
       "      <td>0.273972</td>\n",
       "      <td>0.437355</td>\n",
       "      <td>0.244286</td>\n",
       "      <td>0.009315</td>\n",
       "      <td>0.150200</td>\n",
       "    </tr>\n",
       "    <tr>\n",
       "      <th>ypa</th>\n",
       "      <td>0.022253</td>\n",
       "      <td>0.114146</td>\n",
       "      <td>0.262215</td>\n",
       "      <td>1.000000</td>\n",
       "      <td>0.251290</td>\n",
       "      <td>-0.084231</td>\n",
       "      <td>-0.028345</td>\n",
       "      <td>-0.027716</td>\n",
       "      <td>0.620223</td>\n",
       "      <td>0.268229</td>\n",
       "      <td>0.036240</td>\n",
       "      <td>0.040850</td>\n",
       "    </tr>\n",
       "    <tr>\n",
       "      <th>td</th>\n",
       "      <td>0.438812</td>\n",
       "      <td>0.515727</td>\n",
       "      <td>0.618155</td>\n",
       "      <td>0.251290</td>\n",
       "      <td>1.000000</td>\n",
       "      <td>0.025009</td>\n",
       "      <td>0.042596</td>\n",
       "      <td>0.038859</td>\n",
       "      <td>0.620692</td>\n",
       "      <td>0.514046</td>\n",
       "      <td>0.039398</td>\n",
       "      <td>0.099824</td>\n",
       "    </tr>\n",
       "    <tr>\n",
       "      <th>int</th>\n",
       "      <td>0.383048</td>\n",
       "      <td>0.280330</td>\n",
       "      <td>0.244044</td>\n",
       "      <td>-0.084231</td>\n",
       "      <td>0.025009</td>\n",
       "      <td>1.000000</td>\n",
       "      <td>0.182228</td>\n",
       "      <td>0.174565</td>\n",
       "      <td>-0.437385</td>\n",
       "      <td>-0.227021</td>\n",
       "      <td>-0.040807</td>\n",
       "      <td>-0.028748</td>\n",
       "    </tr>\n",
       "    <tr>\n",
       "      <th>sack</th>\n",
       "      <td>0.374867</td>\n",
       "      <td>0.323591</td>\n",
       "      <td>0.292800</td>\n",
       "      <td>-0.028345</td>\n",
       "      <td>0.042596</td>\n",
       "      <td>0.182228</td>\n",
       "      <td>1.000000</td>\n",
       "      <td>0.907027</td>\n",
       "      <td>-0.035778</td>\n",
       "      <td>-0.231584</td>\n",
       "      <td>-0.044093</td>\n",
       "      <td>0.010825</td>\n",
       "    </tr>\n",
       "    <tr>\n",
       "      <th>loss</th>\n",
       "      <td>0.351187</td>\n",
       "      <td>0.301708</td>\n",
       "      <td>0.273972</td>\n",
       "      <td>-0.027716</td>\n",
       "      <td>0.038859</td>\n",
       "      <td>0.174565</td>\n",
       "      <td>0.907027</td>\n",
       "      <td>1.000000</td>\n",
       "      <td>-0.038520</td>\n",
       "      <td>-0.227068</td>\n",
       "      <td>-0.045003</td>\n",
       "      <td>0.016189</td>\n",
       "    </tr>\n",
       "    <tr>\n",
       "      <th>rate</th>\n",
       "      <td>0.136832</td>\n",
       "      <td>0.316401</td>\n",
       "      <td>0.437355</td>\n",
       "      <td>0.620223</td>\n",
       "      <td>0.620692</td>\n",
       "      <td>-0.437385</td>\n",
       "      <td>-0.035778</td>\n",
       "      <td>-0.038520</td>\n",
       "      <td>1.000000</td>\n",
       "      <td>0.510014</td>\n",
       "      <td>0.056065</td>\n",
       "      <td>0.115377</td>\n",
       "    </tr>\n",
       "    <tr>\n",
       "      <th>game_points</th>\n",
       "      <td>-0.001041</td>\n",
       "      <td>0.113144</td>\n",
       "      <td>0.244286</td>\n",
       "      <td>0.268229</td>\n",
       "      <td>0.514046</td>\n",
       "      <td>-0.227021</td>\n",
       "      <td>-0.231584</td>\n",
       "      <td>-0.227068</td>\n",
       "      <td>0.510014</td>\n",
       "      <td>1.000000</td>\n",
       "      <td>0.132742</td>\n",
       "      <td>0.078378</td>\n",
       "    </tr>\n",
       "    <tr>\n",
       "      <th>home_away</th>\n",
       "      <td>-0.023886</td>\n",
       "      <td>-0.006244</td>\n",
       "      <td>0.009315</td>\n",
       "      <td>0.036240</td>\n",
       "      <td>0.039398</td>\n",
       "      <td>-0.040807</td>\n",
       "      <td>-0.044093</td>\n",
       "      <td>-0.045003</td>\n",
       "      <td>0.056065</td>\n",
       "      <td>0.132742</td>\n",
       "      <td>1.000000</td>\n",
       "      <td>0.000405</td>\n",
       "    </tr>\n",
       "    <tr>\n",
       "      <th>year</th>\n",
       "      <td>0.119987</td>\n",
       "      <td>0.168255</td>\n",
       "      <td>0.150200</td>\n",
       "      <td>0.040850</td>\n",
       "      <td>0.099824</td>\n",
       "      <td>-0.028748</td>\n",
       "      <td>0.010825</td>\n",
       "      <td>0.016189</td>\n",
       "      <td>0.115377</td>\n",
       "      <td>0.078378</td>\n",
       "      <td>0.000405</td>\n",
       "      <td>1.000000</td>\n",
       "    </tr>\n",
       "  </tbody>\n",
       "</table>\n",
       "</div>"
      ],
      "text/plain": [
       "                  att       cmp       yds       ypa        td       int  \\\n",
       "att          1.000000  0.939638  0.869236  0.022253  0.438812  0.383048   \n",
       "cmp          0.939638  1.000000  0.908164  0.114146  0.515727  0.280330   \n",
       "yds          0.869236  0.908164  1.000000  0.262215  0.618155  0.244044   \n",
       "ypa          0.022253  0.114146  0.262215  1.000000  0.251290 -0.084231   \n",
       "td           0.438812  0.515727  0.618155  0.251290  1.000000  0.025009   \n",
       "int          0.383048  0.280330  0.244044 -0.084231  0.025009  1.000000   \n",
       "sack         0.374867  0.323591  0.292800 -0.028345  0.042596  0.182228   \n",
       "loss         0.351187  0.301708  0.273972 -0.027716  0.038859  0.174565   \n",
       "rate         0.136832  0.316401  0.437355  0.620223  0.620692 -0.437385   \n",
       "game_points -0.001041  0.113144  0.244286  0.268229  0.514046 -0.227021   \n",
       "home_away   -0.023886 -0.006244  0.009315  0.036240  0.039398 -0.040807   \n",
       "year         0.119987  0.168255  0.150200  0.040850  0.099824 -0.028748   \n",
       "\n",
       "                 sack      loss      rate  game_points  home_away      year  \n",
       "att          0.374867  0.351187  0.136832    -0.001041  -0.023886  0.119987  \n",
       "cmp          0.323591  0.301708  0.316401     0.113144  -0.006244  0.168255  \n",
       "yds          0.292800  0.273972  0.437355     0.244286   0.009315  0.150200  \n",
       "ypa         -0.028345 -0.027716  0.620223     0.268229   0.036240  0.040850  \n",
       "td           0.042596  0.038859  0.620692     0.514046   0.039398  0.099824  \n",
       "int          0.182228  0.174565 -0.437385    -0.227021  -0.040807 -0.028748  \n",
       "sack         1.000000  0.907027 -0.035778    -0.231584  -0.044093  0.010825  \n",
       "loss         0.907027  1.000000 -0.038520    -0.227068  -0.045003  0.016189  \n",
       "rate        -0.035778 -0.038520  1.000000     0.510014   0.056065  0.115377  \n",
       "game_points -0.231584 -0.227068  0.510014     1.000000   0.132742  0.078378  \n",
       "home_away   -0.044093 -0.045003  0.056065     0.132742   1.000000  0.000405  \n",
       "year         0.010825  0.016189  0.115377     0.078378   0.000405  1.000000  "
      ]
     },
     "execution_count": 27,
     "metadata": {},
     "output_type": "execute_result"
    }
   ],
   "source": [
    "qback.corr()"
   ]
  },
  {
   "cell_type": "code",
   "execution_count": 28,
   "metadata": {},
   "outputs": [
    {
     "data": {
      "text/html": [
       "<div>\n",
       "<style>\n",
       "    .dataframe thead tr:only-child th {\n",
       "        text-align: right;\n",
       "    }\n",
       "\n",
       "    .dataframe thead th {\n",
       "        text-align: left;\n",
       "    }\n",
       "\n",
       "    .dataframe tbody tr th {\n",
       "        vertical-align: top;\n",
       "    }\n",
       "</style>\n",
       "<table border=\"1\" class=\"dataframe\">\n",
       "  <thead>\n",
       "    <tr style=\"text-align: right;\">\n",
       "      <th></th>\n",
       "      <th>qb</th>\n",
       "      <th>att</th>\n",
       "      <th>cmp</th>\n",
       "      <th>yds</th>\n",
       "      <th>ypa</th>\n",
       "      <th>td</th>\n",
       "      <th>int</th>\n",
       "      <th>sack</th>\n",
       "      <th>loss</th>\n",
       "      <th>rate</th>\n",
       "      <th>game_points</th>\n",
       "      <th>home_away</th>\n",
       "      <th>year</th>\n",
       "    </tr>\n",
       "  </thead>\n",
       "  <tbody>\n",
       "    <tr>\n",
       "      <th>528</th>\n",
       "      <td>Todd CollinsT. Collins</td>\n",
       "      <td>7</td>\n",
       "      <td>4</td>\n",
       "      <td>46.0</td>\n",
       "      <td>6.6</td>\n",
       "      <td>1</td>\n",
       "      <td>1.0</td>\n",
       "      <td>3.0</td>\n",
       "      <td>15.0</td>\n",
       "      <td>77.1</td>\n",
       "      <td>18</td>\n",
       "      <td>0</td>\n",
       "      <td>1996</td>\n",
       "    </tr>\n",
       "    <tr>\n",
       "      <th>13049</th>\n",
       "      <td>Matt RyanM. Ryan</td>\n",
       "      <td>28</td>\n",
       "      <td>18</td>\n",
       "      <td>237.0</td>\n",
       "      <td>8.5</td>\n",
       "      <td>3</td>\n",
       "      <td>0.0</td>\n",
       "      <td>2.0</td>\n",
       "      <td>17.0</td>\n",
       "      <td>126.6</td>\n",
       "      <td>42</td>\n",
       "      <td>0</td>\n",
       "      <td>2016</td>\n",
       "    </tr>\n",
       "    <tr>\n",
       "      <th>9192</th>\n",
       "      <td>Matt CasselM. Cassel</td>\n",
       "      <td>26</td>\n",
       "      <td>14</td>\n",
       "      <td>152.0</td>\n",
       "      <td>5.8</td>\n",
       "      <td>1</td>\n",
       "      <td>0.0</td>\n",
       "      <td>3.0</td>\n",
       "      <td>12.0</td>\n",
       "      <td>84.1</td>\n",
       "      <td>13</td>\n",
       "      <td>1</td>\n",
       "      <td>2010</td>\n",
       "    </tr>\n",
       "    <tr>\n",
       "      <th>1573</th>\n",
       "      <td>Peyton ManningP. Manning</td>\n",
       "      <td>42</td>\n",
       "      <td>22</td>\n",
       "      <td>140.0</td>\n",
       "      <td>3.3</td>\n",
       "      <td>1</td>\n",
       "      <td>2.0</td>\n",
       "      <td>0.0</td>\n",
       "      <td>0.0</td>\n",
       "      <td>47.7</td>\n",
       "      <td>14</td>\n",
       "      <td>0</td>\n",
       "      <td>1998</td>\n",
       "    </tr>\n",
       "    <tr>\n",
       "      <th>8231</th>\n",
       "      <td>Peyton ManningP. Manning</td>\n",
       "      <td>7</td>\n",
       "      <td>7</td>\n",
       "      <td>95.0</td>\n",
       "      <td>13.6</td>\n",
       "      <td>1</td>\n",
       "      <td>0.0</td>\n",
       "      <td>1.0</td>\n",
       "      <td>4.0</td>\n",
       "      <td>158.3</td>\n",
       "      <td>23</td>\n",
       "      <td>1</td>\n",
       "      <td>2008</td>\n",
       "    </tr>\n",
       "  </tbody>\n",
       "</table>\n",
       "</div>"
      ],
      "text/plain": [
       "                             qb  att  cmp    yds   ypa  td  int  sack  loss  \\\n",
       "528      Todd CollinsT. Collins    7    4   46.0   6.6   1  1.0   3.0  15.0   \n",
       "13049          Matt RyanM. Ryan   28   18  237.0   8.5   3  0.0   2.0  17.0   \n",
       "9192       Matt CasselM. Cassel   26   14  152.0   5.8   1  0.0   3.0  12.0   \n",
       "1573   Peyton ManningP. Manning   42   22  140.0   3.3   1  2.0   0.0   0.0   \n",
       "8231   Peyton ManningP. Manning    7    7   95.0  13.6   1  0.0   1.0   4.0   \n",
       "\n",
       "        rate  game_points  home_away  year  \n",
       "528     77.1           18          0  1996  \n",
       "13049  126.6           42          0  2016  \n",
       "9192    84.1           13          1  2010  \n",
       "1573    47.7           14          0  1998  \n",
       "8231   158.3           23          1  2008  "
      ]
     },
     "execution_count": 28,
     "metadata": {},
     "output_type": "execute_result"
    }
   ],
   "source": [
    "#dividing data into test and train\n",
    "train = qback.sample(frac = 0.8, random_state=200)\n",
    "test = qback.drop(train.index)\n",
    "train.head()"
   ]
  },
  {
   "cell_type": "code",
   "execution_count": 29,
   "metadata": {},
   "outputs": [
    {
     "name": "stdout",
     "output_type": "stream",
     "text": [
      "[-0.34081157] [[ 0.3957456  0.0313247]]\n"
     ]
    }
   ],
   "source": [
    "#selecting training data\n",
    "X = train[[\"att\",\"yds\"]]\n",
    "y = train[[\"cmp\"]]\n",
    "\n",
    "model = linear_model.LinearRegression()\n",
    "results = model.fit(X,y)\n",
    "\n",
    "print (results.intercept_, results.coef_)"
   ]
  },
  {
   "cell_type": "code",
   "execution_count": 30,
   "metadata": {
    "collapsed": true
   },
   "outputs": [],
   "source": [
    "#selecting testing data\n",
    "x_test = test[[\"att\",\"yds\"]]\n",
    "y_test = test[[\"cmp\"]]"
   ]
  },
  {
   "cell_type": "code",
   "execution_count": 31,
   "metadata": {},
   "outputs": [
    {
     "data": {
      "text/plain": [
       "array([[  4.48536216],\n",
       "       [ 20.24509424],\n",
       "       [ 22.56839389],\n",
       "       ..., \n",
       "       [ 25.54424015],\n",
       "       [ 24.35079993],\n",
       "       [ 16.79720719]])"
      ]
     },
     "execution_count": 31,
     "metadata": {},
     "output_type": "execute_result"
    }
   ],
   "source": [
    "#predicting the target variable\n",
    "y_pred = results.predict(x_test)\n",
    "y_pred"
   ]
  },
  {
   "cell_type": "code",
   "execution_count": 32,
   "metadata": {},
   "outputs": [
    {
     "data": {
      "text/plain": [
       "cmp    15.827197\n",
       "dtype: float64"
      ]
     },
     "execution_count": 32,
     "metadata": {},
     "output_type": "execute_result"
    }
   ],
   "source": [
    "#calculation of root mean square error\n",
    "rmse = np.sqrt(skm.mean_squared_error(y_test, y_pred))\n",
    "rmse/y_test.mean()*100"
   ]
  },
  {
   "cell_type": "code",
   "execution_count": 33,
   "metadata": {},
   "outputs": [
    {
     "data": {
      "text/plain": [
       "Text(0.5,1,'Ridge Regression')"
      ]
     },
     "execution_count": 33,
     "metadata": {},
     "output_type": "execute_result"
    },
    {
     "data": {
      "image/png": "[encoded data removed]",
      "text/plain": [
       "<matplotlib.figure.Figure at 0x1a1ccd2d68>"
      ]
     },
     "metadata": {},
     "output_type": "display_data"
    }
   ],
   "source": [
    "#using Ridge to linearize our model as it is multiple regression\n",
    "ridge = Ridge(fit_intercept=True, alpha=0.5)\n",
    "ridge.fit(X,y)\n",
    "y_pred_ridge = ridge.predict(x_test)\n",
    "\n",
    "plt.scatter(y_test, y_pred_ridge)\n",
    "plt.xlabel(\"Attempts and Yards\")\n",
    "plt.ylabel(\"Predicted completions\")\n",
    "plt.title(\"Ridge Regression\")"
   ]
  },
  {
   "cell_type": "code",
   "execution_count": 34,
   "metadata": {},
   "outputs": [
    {
     "data": {
      "text/plain": [
       "cmp    0.158272\n",
       "dtype: float64"
      ]
     },
     "execution_count": 34,
     "metadata": {},
     "output_type": "execute_result"
    }
   ],
   "source": [
    "rmse = np.sqrt(skm.mean_squared_error(y_test, y_pred_ridge))\n",
    "rmse/y_test.mean()"
   ]
  },
  {
   "cell_type": "markdown",
   "metadata": {},
   "source": [
    "Here we can see that, rmse value is less that that of rmse calculated using Ridge"
   ]
  },
  {
   "cell_type": "code",
   "execution_count": 35,
   "metadata": {},
   "outputs": [
    {
     "name": "stderr",
     "output_type": "stream",
     "text": [
      "/anaconda3/lib/python3.6/site-packages/ipykernel_launcher.py:1: DeprecationWarning: \n",
      ".ix is deprecated. Please use\n",
      ".loc for label based indexing or\n",
      ".iloc for positional indexing\n",
      "\n",
      "See the documentation here:\n",
      "http://pandas.pydata.org/pandas-docs/stable/indexing.html#ix-indexer-is-deprecated\n",
      "  \"\"\"Entry point for launching an IPython kernel.\n"
     ]
    }
   ],
   "source": [
    "q_data = qback.ix[:,(1,3)].values\n",
    "q_target = qback.ix[:,2].values\n",
    "q_data_name = [\"att\",\"yds\"]\n",
    "X,y = scale(q_data),q_target"
   ]
  },
  {
   "cell_type": "code",
   "execution_count": 36,
   "metadata": {},
   "outputs": [
    {
     "name": "stdout",
     "output_type": "stream",
     "text": [
      "0.917094789354\n"
     ]
    }
   ],
   "source": [
    "LinReg = LinearRegression(normalize = True)\n",
    "LinReg.fit(X,y)\n",
    "print (LinReg.score(X,y))"
   ]
  },
  {
   "cell_type": "code",
   "execution_count": 37,
   "metadata": {},
   "outputs": [
    {
     "data": {
      "text/plain": [
       "<matplotlib.axes._subplots.AxesSubplot at 0x1a1cc5f208>"
      ]
     },
     "execution_count": 37,
     "metadata": {},
     "output_type": "execute_result"
    },
    {
     "data": {
      "image/png": "[encoded data removed]",
      "text/plain": [
       "<matplotlib.figure.Figure at 0x1a1cfa4dd8>"
      ]
     },
     "metadata": {},
     "output_type": "display_data"
    }
   ],
   "source": [
    "sns.regplot(x=\"yds\", y=\"cmp\", data=qback)"
   ]
  },
  {
   "cell_type": "code",
   "execution_count": 38,
   "metadata": {},
   "outputs": [
    {
     "data": {
      "text/plain": [
       "<matplotlib.axes._subplots.AxesSubplot at 0x1a1d06d630>"
      ]
     },
     "execution_count": 38,
     "metadata": {},
     "output_type": "execute_result"
    },
    {
     "data": {
      "image/png": "[encoded data removed]",
      "text/plain": [
       "<matplotlib.figure.Figure at 0x1a1efd5470>"
      ]
     },
     "metadata": {},
     "output_type": "display_data"
    }
   ],
   "source": [
    "sns.regplot(x=\"att\", y=\"cmp\", data=qback)"
   ]
  },
  {
   "cell_type": "code",
   "execution_count": 39,
   "metadata": {},
   "outputs": [
    {
     "data": {
      "text/html": [
       "<table class=\"simpletable\">\n",
       "<caption>OLS Regression Results</caption>\n",
       "<tr>\n",
       "  <th>Dep. Variable:</th>            <td>y</td>        <th>  R-squared:         </th> <td>   0.210</td> \n",
       "</tr>\n",
       "<tr>\n",
       "  <th>Model:</th>                   <td>OLS</td>       <th>  Adj. R-squared:    </th> <td>   0.209</td> \n",
       "</tr>\n",
       "<tr>\n",
       "  <th>Method:</th>             <td>Least Squares</td>  <th>  F-statistic:       </th> <td>   1748.</td> \n",
       "</tr>\n",
       "<tr>\n",
       "  <th>Date:</th>             <td>Tue, 20 Feb 2018</td> <th>  Prob (F-statistic):</th>  <td>  0.00</td>  \n",
       "</tr>\n",
       "<tr>\n",
       "  <th>Time:</th>                 <td>14:16:06</td>     <th>  Log-Likelihood:    </th> <td> -55538.</td> \n",
       "</tr>\n",
       "<tr>\n",
       "  <th>No. Observations:</th>      <td> 13188</td>      <th>  AIC:               </th> <td>1.111e+05</td>\n",
       "</tr>\n",
       "<tr>\n",
       "  <th>Df Residuals:</th>          <td> 13186</td>      <th>  BIC:               </th> <td>1.111e+05</td>\n",
       "</tr>\n",
       "<tr>\n",
       "  <th>Df Model:</th>              <td>     2</td>      <th>                     </th>     <td> </td>    \n",
       "</tr>\n",
       "<tr>\n",
       "  <th>Covariance Type:</th>      <td>nonrobust</td>    <th>                     </th>     <td> </td>    \n",
       "</tr>\n",
       "</table>\n",
       "<table class=\"simpletable\">\n",
       "<tr>\n",
       "   <td></td>     <th>coef</th>     <th>std err</th>      <th>t</th>      <th>P>|t|</th>  <th>[0.025</th>    <th>0.975]</th>  \n",
       "</tr>\n",
       "<tr>\n",
       "  <th>x1</th> <td>    5.3930</td> <td>    0.287</td> <td>   18.762</td> <td> 0.000</td> <td>    4.830</td> <td>    5.956</td>\n",
       "</tr>\n",
       "<tr>\n",
       "  <th>x2</th> <td>    3.2810</td> <td>    0.287</td> <td>   11.415</td> <td> 0.000</td> <td>    2.718</td> <td>    3.844</td>\n",
       "</tr>\n",
       "</table>\n",
       "<table class=\"simpletable\">\n",
       "<tr>\n",
       "  <th>Omnibus:</th>       <td>7589.827</td> <th>  Durbin-Watson:     </th>  <td>   0.043</td> \n",
       "</tr>\n",
       "<tr>\n",
       "  <th>Prob(Omnibus):</th>  <td> 0.000</td>  <th>  Jarque-Bera (JB):  </th> <td>556364.297</td>\n",
       "</tr>\n",
       "<tr>\n",
       "  <th>Skew:</th>           <td> 1.948</td>  <th>  Prob(JB):          </th>  <td>    0.00</td> \n",
       "</tr>\n",
       "<tr>\n",
       "  <th>Kurtosis:</th>       <td>34.580</td>  <th>  Cond. No.          </th>  <td>    3.78</td> \n",
       "</tr>\n",
       "</table>"
      ],
      "text/plain": [
       "<class 'statsmodels.iolib.summary.Summary'>\n",
       "\"\"\"\n",
       "                            OLS Regression Results                            \n",
       "==============================================================================\n",
       "Dep. Variable:                      y   R-squared:                       0.210\n",
       "Model:                            OLS   Adj. R-squared:                  0.209\n",
       "Method:                 Least Squares   F-statistic:                     1748.\n",
       "Date:                Tue, 20 Feb 2018   Prob (F-statistic):               0.00\n",
       "Time:                        14:16:06   Log-Likelihood:                -55538.\n",
       "No. Observations:               13188   AIC:                         1.111e+05\n",
       "Df Residuals:                   13186   BIC:                         1.111e+05\n",
       "Df Model:                           2                                         \n",
       "Covariance Type:            nonrobust                                         \n",
       "==============================================================================\n",
       "                 coef    std err          t      P>|t|      [0.025      0.975]\n",
       "------------------------------------------------------------------------------\n",
       "x1             5.3930      0.287     18.762      0.000       4.830       5.956\n",
       "x2             3.2810      0.287     11.415      0.000       2.718       3.844\n",
       "==============================================================================\n",
       "Omnibus:                     7589.827   Durbin-Watson:                   0.043\n",
       "Prob(Omnibus):                  0.000   Jarque-Bera (JB):           556364.297\n",
       "Skew:                           1.948   Prob(JB):                         0.00\n",
       "Kurtosis:                      34.580   Cond. No.                         3.78\n",
       "==============================================================================\n",
       "\n",
       "Warnings:\n",
       "[1] Standard Errors assume that the covariance matrix of the errors is correctly specified.\n",
       "\"\"\""
      ]
     },
     "execution_count": 39,
     "metadata": {},
     "output_type": "execute_result"
    }
   ],
   "source": [
    "import statsmodels.api as sm\n",
    "model = sm.OLS(y, X)\n",
    "results = model.fit()\n",
    "# Statsmodels gives R-like statistical output\n",
    "results.summary()"
   ]
  },
  {
   "cell_type": "code",
   "execution_count": 40,
   "metadata": {},
   "outputs": [
    {
     "data": {
      "text/plain": [
       "array([  5.99872612,  -0.43620689, -11.62764237, ...,   4.26887363,\n",
       "       -12.76338757,  -1.0371006 ])"
      ]
     },
     "execution_count": 40,
     "metadata": {},
     "output_type": "execute_result"
    }
   ],
   "source": [
    "y_pred = results.predict(X)\n",
    "y_pred"
   ]
  },
  {
   "cell_type": "code",
   "execution_count": 41,
   "metadata": {},
   "outputs": [
    {
     "name": "stdout",
     "output_type": "stream",
     "text": [
      "Best alpha : 1.0\n",
      "Try again for more precision with alphas centered around 1.0\n",
      "Best alpha : 1.4\n",
      "Ridge RMSE on Training set : 0.155135935293\n",
      "Ridge RMSE on Test set : cmp    0.155612\n",
      "dtype: float64\n"
     ]
    }
   ],
   "source": [
    "#By using ridge regression with varying alpha values we can see that rsmse has been reduced more \n",
    "scorer = make_scorer(mean_squared_error, greater_is_better = False)\n",
    "\n",
    "def rmse_cv_train(model):\n",
    "    rmse= np.sqrt(-cross_val_score(model, X, y, scoring = scorer, cv = 10))\n",
    "    return(rmse)\n",
    "\n",
    "def rmse_cv_test(model):\n",
    "    rmse= np.sqrt(-cross_val_score(model, x_test, y_test, scoring = scorer, cv = 10))\n",
    "    return(rmse)\n",
    "\n",
    "ridge = RidgeCV(alphas = [0.01, 0.03, 0.06, 0.1, 0.3, 0.6, 1, 3, 6, 10, 30, 60,80,100,120])\n",
    "ridge.fit(X, y)\n",
    "alpha = ridge.alpha_\n",
    "print(\"Best alpha :\", alpha)\n",
    "\n",
    "print(\"Try again for more precision with alphas centered around \" + str(alpha))\n",
    "ridge = RidgeCV(alphas = [alpha * .6, alpha * .65, alpha * .7, alpha * .75, alpha * .8, alpha * .85, \n",
    "                          alpha * .9, alpha * .95, alpha, alpha * 1.05, alpha * 1.1, alpha * 1.15,\n",
    "                          alpha * 1.25, alpha * 1.3, alpha * 1.35, alpha * 1.4], \n",
    "                cv = 10)\n",
    "ridge.fit(X, y)\n",
    "alpha = ridge.alpha_\n",
    "print(\"Best alpha :\", alpha)\n",
    "\n",
    "print(\"Ridge RMSE on Training set :\", rmse_cv_train(ridge).mean()/y.mean())\n",
    "print(\"Ridge RMSE on Test set :\", rmse_cv_test(ridge).mean()/y_test.mean())\n",
    "y_train_rdg = ridge.predict(X)\n",
    "y_test_rdg = ridge.predict(x_test)"
   ]
  },
  {
   "cell_type": "markdown",
   "metadata": {},
   "source": [
    "PART III : Logistic Regression"
   ]
  },
  {
   "cell_type": "code",
   "execution_count": 42,
   "metadata": {},
   "outputs": [
    {
     "data": {
      "text/html": [
       "<div>\n",
       "<style>\n",
       "    .dataframe thead tr:only-child th {\n",
       "        text-align: right;\n",
       "    }\n",
       "\n",
       "    .dataframe thead th {\n",
       "        text-align: left;\n",
       "    }\n",
       "\n",
       "    .dataframe tbody tr th {\n",
       "        vertical-align: top;\n",
       "    }\n",
       "</style>\n",
       "<table border=\"1\" class=\"dataframe\">\n",
       "  <thead>\n",
       "    <tr style=\"text-align: right;\">\n",
       "      <th></th>\n",
       "      <th>game_points</th>\n",
       "      <th>home_away</th>\n",
       "    </tr>\n",
       "  </thead>\n",
       "  <tbody>\n",
       "    <tr>\n",
       "      <th>0</th>\n",
       "      <td>13</td>\n",
       "      <td>0</td>\n",
       "    </tr>\n",
       "    <tr>\n",
       "      <th>1</th>\n",
       "      <td>20</td>\n",
       "      <td>1</td>\n",
       "    </tr>\n",
       "    <tr>\n",
       "      <th>2</th>\n",
       "      <td>20</td>\n",
       "      <td>1</td>\n",
       "    </tr>\n",
       "    <tr>\n",
       "      <th>3</th>\n",
       "      <td>6</td>\n",
       "      <td>0</td>\n",
       "    </tr>\n",
       "    <tr>\n",
       "      <th>4</th>\n",
       "      <td>29</td>\n",
       "      <td>1</td>\n",
       "    </tr>\n",
       "    <tr>\n",
       "      <th>5</th>\n",
       "      <td>16</td>\n",
       "      <td>0</td>\n",
       "    </tr>\n",
       "    <tr>\n",
       "      <th>6</th>\n",
       "      <td>26</td>\n",
       "      <td>1</td>\n",
       "    </tr>\n",
       "    <tr>\n",
       "      <th>7</th>\n",
       "      <td>13</td>\n",
       "      <td>0</td>\n",
       "    </tr>\n",
       "    <tr>\n",
       "      <th>8</th>\n",
       "      <td>13</td>\n",
       "      <td>0</td>\n",
       "    </tr>\n",
       "    <tr>\n",
       "      <th>9</th>\n",
       "      <td>17</td>\n",
       "      <td>1</td>\n",
       "    </tr>\n",
       "    <tr>\n",
       "      <th>10</th>\n",
       "      <td>17</td>\n",
       "      <td>1</td>\n",
       "    </tr>\n",
       "    <tr>\n",
       "      <th>11</th>\n",
       "      <td>20</td>\n",
       "      <td>0</td>\n",
       "    </tr>\n",
       "    <tr>\n",
       "      <th>12</th>\n",
       "      <td>19</td>\n",
       "      <td>1</td>\n",
       "    </tr>\n",
       "    <tr>\n",
       "      <th>13</th>\n",
       "      <td>14</td>\n",
       "      <td>0</td>\n",
       "    </tr>\n",
       "    <tr>\n",
       "      <th>14</th>\n",
       "      <td>19</td>\n",
       "      <td>1</td>\n",
       "    </tr>\n",
       "    <tr>\n",
       "      <th>15</th>\n",
       "      <td>17</td>\n",
       "      <td>0</td>\n",
       "    </tr>\n",
       "    <tr>\n",
       "      <th>16</th>\n",
       "      <td>14</td>\n",
       "      <td>1</td>\n",
       "    </tr>\n",
       "    <tr>\n",
       "      <th>17</th>\n",
       "      <td>9</td>\n",
       "      <td>0</td>\n",
       "    </tr>\n",
       "    <tr>\n",
       "      <th>18</th>\n",
       "      <td>9</td>\n",
       "      <td>0</td>\n",
       "    </tr>\n",
       "    <tr>\n",
       "      <th>19</th>\n",
       "      <td>9</td>\n",
       "      <td>0</td>\n",
       "    </tr>\n",
       "    <tr>\n",
       "      <th>20</th>\n",
       "      <td>24</td>\n",
       "      <td>1</td>\n",
       "    </tr>\n",
       "    <tr>\n",
       "      <th>21</th>\n",
       "      <td>34</td>\n",
       "      <td>0</td>\n",
       "    </tr>\n",
       "    <tr>\n",
       "      <th>22</th>\n",
       "      <td>34</td>\n",
       "      <td>0</td>\n",
       "    </tr>\n",
       "    <tr>\n",
       "      <th>23</th>\n",
       "      <td>3</td>\n",
       "      <td>1</td>\n",
       "    </tr>\n",
       "    <tr>\n",
       "      <th>24</th>\n",
       "      <td>10</td>\n",
       "      <td>0</td>\n",
       "    </tr>\n",
       "    <tr>\n",
       "      <th>25</th>\n",
       "      <td>24</td>\n",
       "      <td>1</td>\n",
       "    </tr>\n",
       "    <tr>\n",
       "      <th>26</th>\n",
       "      <td>11</td>\n",
       "      <td>0</td>\n",
       "    </tr>\n",
       "    <tr>\n",
       "      <th>27</th>\n",
       "      <td>27</td>\n",
       "      <td>1</td>\n",
       "    </tr>\n",
       "    <tr>\n",
       "      <th>28</th>\n",
       "      <td>27</td>\n",
       "      <td>1</td>\n",
       "    </tr>\n",
       "    <tr>\n",
       "      <th>29</th>\n",
       "      <td>6</td>\n",
       "      <td>0</td>\n",
       "    </tr>\n",
       "    <tr>\n",
       "      <th>...</th>\n",
       "      <td>...</td>\n",
       "      <td>...</td>\n",
       "    </tr>\n",
       "    <tr>\n",
       "      <th>13158</th>\n",
       "      <td>35</td>\n",
       "      <td>0</td>\n",
       "    </tr>\n",
       "    <tr>\n",
       "      <th>13159</th>\n",
       "      <td>14</td>\n",
       "      <td>1</td>\n",
       "    </tr>\n",
       "    <tr>\n",
       "      <th>13160</th>\n",
       "      <td>10</td>\n",
       "      <td>0</td>\n",
       "    </tr>\n",
       "    <tr>\n",
       "      <th>13161</th>\n",
       "      <td>10</td>\n",
       "      <td>0</td>\n",
       "    </tr>\n",
       "    <tr>\n",
       "      <th>13162</th>\n",
       "      <td>10</td>\n",
       "      <td>0</td>\n",
       "    </tr>\n",
       "    <tr>\n",
       "      <th>13163</th>\n",
       "      <td>38</td>\n",
       "      <td>1</td>\n",
       "    </tr>\n",
       "    <tr>\n",
       "      <th>13164</th>\n",
       "      <td>38</td>\n",
       "      <td>1</td>\n",
       "    </tr>\n",
       "    <tr>\n",
       "      <th>13165</th>\n",
       "      <td>10</td>\n",
       "      <td>0</td>\n",
       "    </tr>\n",
       "    <tr>\n",
       "      <th>13166</th>\n",
       "      <td>10</td>\n",
       "      <td>0</td>\n",
       "    </tr>\n",
       "    <tr>\n",
       "      <th>13167</th>\n",
       "      <td>30</td>\n",
       "      <td>1</td>\n",
       "    </tr>\n",
       "    <tr>\n",
       "      <th>13168</th>\n",
       "      <td>13</td>\n",
       "      <td>0</td>\n",
       "    </tr>\n",
       "    <tr>\n",
       "      <th>13169</th>\n",
       "      <td>13</td>\n",
       "      <td>0</td>\n",
       "    </tr>\n",
       "    <tr>\n",
       "      <th>13170</th>\n",
       "      <td>13</td>\n",
       "      <td>0</td>\n",
       "    </tr>\n",
       "    <tr>\n",
       "      <th>13171</th>\n",
       "      <td>27</td>\n",
       "      <td>1</td>\n",
       "    </tr>\n",
       "    <tr>\n",
       "      <th>13172</th>\n",
       "      <td>24</td>\n",
       "      <td>0</td>\n",
       "    </tr>\n",
       "    <tr>\n",
       "      <th>13173</th>\n",
       "      <td>27</td>\n",
       "      <td>1</td>\n",
       "    </tr>\n",
       "    <tr>\n",
       "      <th>13174</th>\n",
       "      <td>44</td>\n",
       "      <td>0</td>\n",
       "    </tr>\n",
       "    <tr>\n",
       "      <th>13175</th>\n",
       "      <td>44</td>\n",
       "      <td>0</td>\n",
       "    </tr>\n",
       "    <tr>\n",
       "      <th>13176</th>\n",
       "      <td>6</td>\n",
       "      <td>1</td>\n",
       "    </tr>\n",
       "    <tr>\n",
       "      <th>13177</th>\n",
       "      <td>6</td>\n",
       "      <td>1</td>\n",
       "    </tr>\n",
       "    <tr>\n",
       "      <th>13178</th>\n",
       "      <td>6</td>\n",
       "      <td>1</td>\n",
       "    </tr>\n",
       "    <tr>\n",
       "      <th>13179</th>\n",
       "      <td>6</td>\n",
       "      <td>1</td>\n",
       "    </tr>\n",
       "    <tr>\n",
       "      <th>13180</th>\n",
       "      <td>6</td>\n",
       "      <td>0</td>\n",
       "    </tr>\n",
       "    <tr>\n",
       "      <th>13181</th>\n",
       "      <td>6</td>\n",
       "      <td>0</td>\n",
       "    </tr>\n",
       "    <tr>\n",
       "      <th>13182</th>\n",
       "      <td>24</td>\n",
       "      <td>1</td>\n",
       "    </tr>\n",
       "    <tr>\n",
       "      <th>13183</th>\n",
       "      <td>37</td>\n",
       "      <td>0</td>\n",
       "    </tr>\n",
       "    <tr>\n",
       "      <th>13184</th>\n",
       "      <td>27</td>\n",
       "      <td>1</td>\n",
       "    </tr>\n",
       "    <tr>\n",
       "      <th>13185</th>\n",
       "      <td>25</td>\n",
       "      <td>0</td>\n",
       "    </tr>\n",
       "    <tr>\n",
       "      <th>13186</th>\n",
       "      <td>25</td>\n",
       "      <td>0</td>\n",
       "    </tr>\n",
       "    <tr>\n",
       "      <th>13187</th>\n",
       "      <td>23</td>\n",
       "      <td>1</td>\n",
       "    </tr>\n",
       "  </tbody>\n",
       "</table>\n",
       "<p>13188 rows × 2 columns</p>\n",
       "</div>"
      ],
      "text/plain": [
       "       game_points  home_away\n",
       "0               13          0\n",
       "1               20          1\n",
       "2               20          1\n",
       "3                6          0\n",
       "4               29          1\n",
       "5               16          0\n",
       "6               26          1\n",
       "7               13          0\n",
       "8               13          0\n",
       "9               17          1\n",
       "10              17          1\n",
       "11              20          0\n",
       "12              19          1\n",
       "13              14          0\n",
       "14              19          1\n",
       "15              17          0\n",
       "16              14          1\n",
       "17               9          0\n",
       "18               9          0\n",
       "19               9          0\n",
       "20              24          1\n",
       "21              34          0\n",
       "22              34          0\n",
       "23               3          1\n",
       "24              10          0\n",
       "25              24          1\n",
       "26              11          0\n",
       "27              27          1\n",
       "28              27          1\n",
       "29               6          0\n",
       "...            ...        ...\n",
       "13158           35          0\n",
       "13159           14          1\n",
       "13160           10          0\n",
       "13161           10          0\n",
       "13162           10          0\n",
       "13163           38          1\n",
       "13164           38          1\n",
       "13165           10          0\n",
       "13166           10          0\n",
       "13167           30          1\n",
       "13168           13          0\n",
       "13169           13          0\n",
       "13170           13          0\n",
       "13171           27          1\n",
       "13172           24          0\n",
       "13173           27          1\n",
       "13174           44          0\n",
       "13175           44          0\n",
       "13176            6          1\n",
       "13177            6          1\n",
       "13178            6          1\n",
       "13179            6          1\n",
       "13180            6          0\n",
       "13181            6          0\n",
       "13182           24          1\n",
       "13183           37          0\n",
       "13184           27          1\n",
       "13185           25          0\n",
       "13186           25          0\n",
       "13187           23          1\n",
       "\n",
       "[13188 rows x 2 columns]"
      ]
     },
     "execution_count": 42,
     "metadata": {},
     "output_type": "execute_result"
    }
   ],
   "source": [
    "lqback = qback[[\"game_points\",\"home_away\"]]\n",
    "lqback"
   ]
  },
  {
   "cell_type": "code",
   "execution_count": 43,
   "metadata": {},
   "outputs": [
    {
     "data": {
      "text/plain": [
       "<seaborn.axisgrid.FacetGrid at 0x1a1eaa75f8>"
      ]
     },
     "execution_count": 43,
     "metadata": {},
     "output_type": "execute_result"
    },
    {
     "data": {
      "image/png": "[encoded data removed]",
      "text/plain": [
       "<matplotlib.figure.Figure at 0x1a1eaa7588>"
      ]
     },
     "metadata": {},
     "output_type": "display_data"
    }
   ],
   "source": [
    "plt.rcParams['figure.figsize'] = (15, 7)\n",
    "sns.lmplot(x='game_points', y='home_away', data=lqback, ci=None)"
   ]
  },
  {
   "cell_type": "code",
   "execution_count": 44,
   "metadata": {},
   "outputs": [
    {
     "name": "stdout",
     "output_type": "stream",
     "text": [
      "Optimization terminated successfully.\n",
      "         Current function value: 0.691097\n",
      "         Iterations 3\n"
     ]
    },
    {
     "data": {
      "text/html": [
       "<table class=\"simpletable\">\n",
       "<caption>Logit Regression Results</caption>\n",
       "<tr>\n",
       "  <th>Dep. Variable:</th>     <td>home_away</td>    <th>  No. Observations:  </th>  <td> 13188</td> \n",
       "</tr>\n",
       "<tr>\n",
       "  <th>Model:</th>               <td>Logit</td>      <th>  Df Residuals:      </th>  <td> 13187</td> \n",
       "</tr>\n",
       "<tr>\n",
       "  <th>Method:</th>               <td>MLE</td>       <th>  Df Model:          </th>  <td>     0</td> \n",
       "</tr>\n",
       "<tr>\n",
       "  <th>Date:</th>          <td>Tue, 20 Feb 2018</td> <th>  Pseudo R-squ.:     </th> <td>0.002938</td>\n",
       "</tr>\n",
       "<tr>\n",
       "  <th>Time:</th>              <td>14:16:14</td>     <th>  Log-Likelihood:    </th> <td> -9114.2</td>\n",
       "</tr>\n",
       "<tr>\n",
       "  <th>converged:</th>           <td>True</td>       <th>  LL-Null:           </th> <td> -9141.0</td>\n",
       "</tr>\n",
       "<tr>\n",
       "  <th> </th>                      <td> </td>        <th>  LLR p-value:       </th>  <td>   nan</td> \n",
       "</tr>\n",
       "</table>\n",
       "<table class=\"simpletable\">\n",
       "<tr>\n",
       "       <td></td>          <th>coef</th>     <th>std err</th>      <th>z</th>      <th>P>|z|</th>  <th>[0.025</th>    <th>0.975]</th>  \n",
       "</tr>\n",
       "<tr>\n",
       "  <th>game_points</th> <td>    0.0054</td> <td>    0.001</td> <td>    7.340</td> <td> 0.000</td> <td>    0.004</td> <td>    0.007</td>\n",
       "</tr>\n",
       "</table>"
      ],
      "text/plain": [
       "<class 'statsmodels.iolib.summary.Summary'>\n",
       "\"\"\"\n",
       "                           Logit Regression Results                           \n",
       "==============================================================================\n",
       "Dep. Variable:              home_away   No. Observations:                13188\n",
       "Model:                          Logit   Df Residuals:                    13187\n",
       "Method:                           MLE   Df Model:                            0\n",
       "Date:                Tue, 20 Feb 2018   Pseudo R-squ.:                0.002938\n",
       "Time:                        14:16:14   Log-Likelihood:                -9114.2\n",
       "converged:                       True   LL-Null:                       -9141.0\n",
       "                                        LLR p-value:                       nan\n",
       "===============================================================================\n",
       "                  coef    std err          z      P>|z|      [0.025      0.975]\n",
       "-------------------------------------------------------------------------------\n",
       "game_points     0.0054      0.001      7.340      0.000       0.004       0.007\n",
       "===============================================================================\n",
       "\"\"\""
      ]
     },
     "execution_count": 44,
     "metadata": {},
     "output_type": "execute_result"
    }
   ],
   "source": [
    "win_loss_model = sm.Logit(lqback['home_away'], lqback['game_points']).fit()\n",
    "win_loss_model.summary()"
   ]
  },
  {
   "cell_type": "code",
   "execution_count": 45,
   "metadata": {
    "collapsed": true
   },
   "outputs": [],
   "source": [
    "train = qback.sample(frac = 0.8, random_state=200)\n",
    "test = qback.drop(train.index)\n",
    "train.head()\n",
    "\n",
    "X = train[[\"game_points\"]]\n",
    "y = train[\"home_away\"]\n",
    "\n",
    "\n",
    "x_test = test[[\"game_points\"]]\n",
    "y_test = test[[\"home_away\"]]\n",
    "\n",
    "# setting Logistic regression classifier\n",
    "# scikit-learn includes the intercept.\n",
    "# Inverse of regularization strength\n",
    "\n",
    "lr = LogisticRegression(C=1)\n",
    "\n",
    "#dividing data to have a training and a testing set\n",
    "X_train, X_test, y_train, y_test = train_test_split(X, y, test_size= .2, random_state=0)\n",
    "\n",
    "# Logistic regression metrics\n",
    "LRm = lr.fit(X_train, y_train)\n",
    "\n",
    "y_test_pred=LRm.predict_proba(X_test)  # The returned estimates for all classes are ordered by the label of classes."
   ]
  },
  {
   "cell_type": "code",
   "execution_count": 46,
   "metadata": {},
   "outputs": [
    {
     "name": "stdout",
     "output_type": "stream",
     "text": [
      "(2110, 1)\n",
      "(2110,)\n"
     ]
    }
   ],
   "source": [
    "print (X_test.shape)\n",
    "print (y_test.shape)"
   ]
  },
  {
   "cell_type": "code",
   "execution_count": 47,
   "metadata": {},
   "outputs": [
    {
     "data": {
      "text/plain": [
       "array([[ 0.57286435,  0.42713565],\n",
       "       [ 0.55309995,  0.44690005],\n",
       "       [ 0.63676696,  0.36323304],\n",
       "       ..., \n",
       "       [ 0.59239881,  0.40760119],\n",
       "       [ 0.36274945,  0.63725055],\n",
       "       [ 0.42008612,  0.57991388]])"
      ]
     },
     "execution_count": 47,
     "metadata": {},
     "output_type": "execute_result"
    }
   ],
   "source": [
    "y_test_pred"
   ]
  },
  {
   "cell_type": "code",
   "execution_count": 48,
   "metadata": {},
   "outputs": [
    {
     "name": "stdout",
     "output_type": "stream",
     "text": [
      "Accuracy score using Logistic regression is 0.554028436019\n"
     ]
    }
   ],
   "source": [
    "y_pred = LRm.predict(X_test)\n",
    "print(\"Accuracy score using Logistic regression is %s\" %skm.accuracy_score(y_test, y_pred))"
   ]
  },
  {
   "cell_type": "code",
   "execution_count": 49,
   "metadata": {},
   "outputs": [
    {
     "data": {
      "text/plain": [
       "array([0, 0, 0, ..., 0, 1, 1])"
      ]
     },
     "execution_count": 49,
     "metadata": {},
     "output_type": "execute_result"
    }
   ],
   "source": [
    "LRm.predict(X_test)"
   ]
  },
  {
   "cell_type": "code",
   "execution_count": 50,
   "metadata": {},
   "outputs": [
    {
     "name": "stdout",
     "output_type": "stream",
     "text": [
      "Accuracy score using Logistic regression is 0.554028436019\n"
     ]
    }
   ],
   "source": [
    "y_pred = LRm.predict(X_test)\n",
    "print(\"Accuracy score using Logistic regression is %s\" %skm.accuracy_score(y_test, y_pred))"
   ]
  }
 ],
 "metadata": {
  "kernelspec": {
   "display_name": "Python 3",
   "language": "python",
   "name": "python3"
  },
  "language_info": {
   "codemirror_mode": {
    "name": "ipython",
    "version": 3
   },
   "file_extension": ".py",
   "mimetype": "text/x-python",
   "name": "python",
   "nbconvert_exporter": "python",
   "pygments_lexer": "ipython3",
   "version": "3.6.3"
  }
 },
 "nbformat": 4,
 "nbformat_minor": 2
}
